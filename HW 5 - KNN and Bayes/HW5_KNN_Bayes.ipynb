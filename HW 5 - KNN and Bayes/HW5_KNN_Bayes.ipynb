{
 "cells": [
  {
   "cell_type": "markdown",
   "metadata": {
    "collapsed": true,
    "pycharm": {
     "name": "#%% md\n"
    }
   },
   "source": [
    "# 5th homework of data mining\n",
    "Parsa KamaliPour - 97149081"
   ]
  },
  {
   "cell_type": "code",
   "execution_count": 141,
   "outputs": [],
   "source": [
    "from copy import deepcopy\n",
    "\n",
    "from sklearn.metrics import confusion_matrix, classification_report\n",
    "from sklearn.neighbors import KNeighborsClassifier\n",
    "from sklearn.model_selection import train_test_split\n",
    "from sklearn.preprocessing import StandardScaler, LabelEncoder\n",
    "import pandas as pd\n",
    "import numpy as np\n",
    "import matplotlib.pyplot as plt\n",
    "from IPython.core.display_functions import display\n",
    "from sklearn.preprocessing import OneHotEncoder"
   ],
   "metadata": {
    "collapsed": false,
    "pycharm": {
     "name": "#%%\n"
    }
   }
  },
  {
   "cell_type": "code",
   "execution_count": 142,
   "outputs": [
    {
     "data": {
      "text/plain": "    species     island  bill_length_mm  bill_depth_mm  flipper_length_mm  \\\n0    Adelie  Torgersen            39.1           18.7              181.0   \n1    Adelie  Torgersen            39.5           17.4              186.0   \n2    Adelie  Torgersen            40.3           18.0              195.0   \n3    Adelie  Torgersen             NaN            NaN                NaN   \n4    Adelie  Torgersen            36.7           19.3              193.0   \n..      ...        ...             ...            ...                ...   \n339  Gentoo     Biscoe             NaN            NaN                NaN   \n340  Gentoo     Biscoe            46.8           14.3              215.0   \n341  Gentoo     Biscoe            50.4           15.7              222.0   \n342  Gentoo     Biscoe            45.2           14.8              212.0   \n343  Gentoo     Biscoe            49.9           16.1              213.0   \n\n     body_mass_g     sex  \n0         3750.0    MALE  \n1         3800.0  FEMALE  \n2         3250.0  FEMALE  \n3            NaN     NaN  \n4         3450.0  FEMALE  \n..           ...     ...  \n339          NaN     NaN  \n340       4850.0  FEMALE  \n341       5750.0    MALE  \n342       5200.0  FEMALE  \n343       5400.0    MALE  \n\n[344 rows x 7 columns]",
      "text/html": "<div>\n<style scoped>\n    .dataframe tbody tr th:only-of-type {\n        vertical-align: middle;\n    }\n\n    .dataframe tbody tr th {\n        vertical-align: top;\n    }\n\n    .dataframe thead th {\n        text-align: right;\n    }\n</style>\n<table border=\"1\" class=\"dataframe\">\n  <thead>\n    <tr style=\"text-align: right;\">\n      <th></th>\n      <th>species</th>\n      <th>island</th>\n      <th>bill_length_mm</th>\n      <th>bill_depth_mm</th>\n      <th>flipper_length_mm</th>\n      <th>body_mass_g</th>\n      <th>sex</th>\n    </tr>\n  </thead>\n  <tbody>\n    <tr>\n      <th>0</th>\n      <td>Adelie</td>\n      <td>Torgersen</td>\n      <td>39.1</td>\n      <td>18.7</td>\n      <td>181.0</td>\n      <td>3750.0</td>\n      <td>MALE</td>\n    </tr>\n    <tr>\n      <th>1</th>\n      <td>Adelie</td>\n      <td>Torgersen</td>\n      <td>39.5</td>\n      <td>17.4</td>\n      <td>186.0</td>\n      <td>3800.0</td>\n      <td>FEMALE</td>\n    </tr>\n    <tr>\n      <th>2</th>\n      <td>Adelie</td>\n      <td>Torgersen</td>\n      <td>40.3</td>\n      <td>18.0</td>\n      <td>195.0</td>\n      <td>3250.0</td>\n      <td>FEMALE</td>\n    </tr>\n    <tr>\n      <th>3</th>\n      <td>Adelie</td>\n      <td>Torgersen</td>\n      <td>NaN</td>\n      <td>NaN</td>\n      <td>NaN</td>\n      <td>NaN</td>\n      <td>NaN</td>\n    </tr>\n    <tr>\n      <th>4</th>\n      <td>Adelie</td>\n      <td>Torgersen</td>\n      <td>36.7</td>\n      <td>19.3</td>\n      <td>193.0</td>\n      <td>3450.0</td>\n      <td>FEMALE</td>\n    </tr>\n    <tr>\n      <th>...</th>\n      <td>...</td>\n      <td>...</td>\n      <td>...</td>\n      <td>...</td>\n      <td>...</td>\n      <td>...</td>\n      <td>...</td>\n    </tr>\n    <tr>\n      <th>339</th>\n      <td>Gentoo</td>\n      <td>Biscoe</td>\n      <td>NaN</td>\n      <td>NaN</td>\n      <td>NaN</td>\n      <td>NaN</td>\n      <td>NaN</td>\n    </tr>\n    <tr>\n      <th>340</th>\n      <td>Gentoo</td>\n      <td>Biscoe</td>\n      <td>46.8</td>\n      <td>14.3</td>\n      <td>215.0</td>\n      <td>4850.0</td>\n      <td>FEMALE</td>\n    </tr>\n    <tr>\n      <th>341</th>\n      <td>Gentoo</td>\n      <td>Biscoe</td>\n      <td>50.4</td>\n      <td>15.7</td>\n      <td>222.0</td>\n      <td>5750.0</td>\n      <td>MALE</td>\n    </tr>\n    <tr>\n      <th>342</th>\n      <td>Gentoo</td>\n      <td>Biscoe</td>\n      <td>45.2</td>\n      <td>14.8</td>\n      <td>212.0</td>\n      <td>5200.0</td>\n      <td>FEMALE</td>\n    </tr>\n    <tr>\n      <th>343</th>\n      <td>Gentoo</td>\n      <td>Biscoe</td>\n      <td>49.9</td>\n      <td>16.1</td>\n      <td>213.0</td>\n      <td>5400.0</td>\n      <td>MALE</td>\n    </tr>\n  </tbody>\n</table>\n<p>344 rows × 7 columns</p>\n</div>"
     },
     "metadata": {},
     "output_type": "display_data"
    }
   ],
   "source": [
    "dataset = pd.read_csv(\"penguins.csv\")\n",
    "display(dataset)"
   ],
   "metadata": {
    "collapsed": false,
    "pycharm": {
     "name": "#%%\n"
    }
   }
  },
  {
   "cell_type": "markdown",
   "source": [
    "## Drop NaN"
   ],
   "metadata": {
    "collapsed": false,
    "pycharm": {
     "name": "#%% md\n"
    }
   }
  },
  {
   "cell_type": "code",
   "execution_count": 143,
   "outputs": [
    {
     "data": {
      "text/plain": "    species     island  bill_length_mm  bill_depth_mm  flipper_length_mm  \\\n0    Adelie  Torgersen            39.1           18.7              181.0   \n1    Adelie  Torgersen            39.5           17.4              186.0   \n2    Adelie  Torgersen            40.3           18.0              195.0   \n4    Adelie  Torgersen            36.7           19.3              193.0   \n5    Adelie  Torgersen            39.3           20.6              190.0   \n..      ...        ...             ...            ...                ...   \n338  Gentoo     Biscoe            47.2           13.7              214.0   \n340  Gentoo     Biscoe            46.8           14.3              215.0   \n341  Gentoo     Biscoe            50.4           15.7              222.0   \n342  Gentoo     Biscoe            45.2           14.8              212.0   \n343  Gentoo     Biscoe            49.9           16.1              213.0   \n\n     body_mass_g     sex  \n0         3750.0    MALE  \n1         3800.0  FEMALE  \n2         3250.0  FEMALE  \n4         3450.0  FEMALE  \n5         3650.0    MALE  \n..           ...     ...  \n338       4925.0  FEMALE  \n340       4850.0  FEMALE  \n341       5750.0    MALE  \n342       5200.0  FEMALE  \n343       5400.0    MALE  \n\n[333 rows x 7 columns]",
      "text/html": "<div>\n<style scoped>\n    .dataframe tbody tr th:only-of-type {\n        vertical-align: middle;\n    }\n\n    .dataframe tbody tr th {\n        vertical-align: top;\n    }\n\n    .dataframe thead th {\n        text-align: right;\n    }\n</style>\n<table border=\"1\" class=\"dataframe\">\n  <thead>\n    <tr style=\"text-align: right;\">\n      <th></th>\n      <th>species</th>\n      <th>island</th>\n      <th>bill_length_mm</th>\n      <th>bill_depth_mm</th>\n      <th>flipper_length_mm</th>\n      <th>body_mass_g</th>\n      <th>sex</th>\n    </tr>\n  </thead>\n  <tbody>\n    <tr>\n      <th>0</th>\n      <td>Adelie</td>\n      <td>Torgersen</td>\n      <td>39.1</td>\n      <td>18.7</td>\n      <td>181.0</td>\n      <td>3750.0</td>\n      <td>MALE</td>\n    </tr>\n    <tr>\n      <th>1</th>\n      <td>Adelie</td>\n      <td>Torgersen</td>\n      <td>39.5</td>\n      <td>17.4</td>\n      <td>186.0</td>\n      <td>3800.0</td>\n      <td>FEMALE</td>\n    </tr>\n    <tr>\n      <th>2</th>\n      <td>Adelie</td>\n      <td>Torgersen</td>\n      <td>40.3</td>\n      <td>18.0</td>\n      <td>195.0</td>\n      <td>3250.0</td>\n      <td>FEMALE</td>\n    </tr>\n    <tr>\n      <th>4</th>\n      <td>Adelie</td>\n      <td>Torgersen</td>\n      <td>36.7</td>\n      <td>19.3</td>\n      <td>193.0</td>\n      <td>3450.0</td>\n      <td>FEMALE</td>\n    </tr>\n    <tr>\n      <th>5</th>\n      <td>Adelie</td>\n      <td>Torgersen</td>\n      <td>39.3</td>\n      <td>20.6</td>\n      <td>190.0</td>\n      <td>3650.0</td>\n      <td>MALE</td>\n    </tr>\n    <tr>\n      <th>...</th>\n      <td>...</td>\n      <td>...</td>\n      <td>...</td>\n      <td>...</td>\n      <td>...</td>\n      <td>...</td>\n      <td>...</td>\n    </tr>\n    <tr>\n      <th>338</th>\n      <td>Gentoo</td>\n      <td>Biscoe</td>\n      <td>47.2</td>\n      <td>13.7</td>\n      <td>214.0</td>\n      <td>4925.0</td>\n      <td>FEMALE</td>\n    </tr>\n    <tr>\n      <th>340</th>\n      <td>Gentoo</td>\n      <td>Biscoe</td>\n      <td>46.8</td>\n      <td>14.3</td>\n      <td>215.0</td>\n      <td>4850.0</td>\n      <td>FEMALE</td>\n    </tr>\n    <tr>\n      <th>341</th>\n      <td>Gentoo</td>\n      <td>Biscoe</td>\n      <td>50.4</td>\n      <td>15.7</td>\n      <td>222.0</td>\n      <td>5750.0</td>\n      <td>MALE</td>\n    </tr>\n    <tr>\n      <th>342</th>\n      <td>Gentoo</td>\n      <td>Biscoe</td>\n      <td>45.2</td>\n      <td>14.8</td>\n      <td>212.0</td>\n      <td>5200.0</td>\n      <td>FEMALE</td>\n    </tr>\n    <tr>\n      <th>343</th>\n      <td>Gentoo</td>\n      <td>Biscoe</td>\n      <td>49.9</td>\n      <td>16.1</td>\n      <td>213.0</td>\n      <td>5400.0</td>\n      <td>MALE</td>\n    </tr>\n  </tbody>\n</table>\n<p>333 rows × 7 columns</p>\n</div>"
     },
     "metadata": {},
     "output_type": "display_data"
    }
   ],
   "source": [
    "data_back = deepcopy(dataset)\n",
    "dataset.dropna(\n",
    "    subset=[\n",
    "        'species', 'island', 'bill_length_mm', 'bill_depth_mm',\n",
    "        'flipper_length_mm', 'body_mass_g', 'sex'\n",
    "    ],\n",
    "    inplace=True\n",
    ")\n",
    "display(dataset)"
   ],
   "metadata": {
    "collapsed": false,
    "pycharm": {
     "name": "#%%\n"
    }
   }
  },
  {
   "cell_type": "markdown",
   "source": [
    "## Normalize features"
   ],
   "metadata": {
    "collapsed": false,
    "pycharm": {
     "name": "#%% md\n"
    }
   }
  },
  {
   "cell_type": "code",
   "execution_count": 144,
   "outputs": [
    {
     "data": {
      "text/plain": "    species     island  bill_length_mm  bill_depth_mm  flipper_length_mm  \\\n0    Adelie  Torgersen       -0.896042       0.780732          -1.426752   \n1    Adelie  Torgersen       -0.822788       0.119584          -1.069474   \n2    Adelie  Torgersen       -0.676280       0.424729          -0.426373   \n4    Adelie  Torgersen       -1.335566       1.085877          -0.569284   \n5    Adelie  Torgersen       -0.859415       1.747026          -0.783651   \n..      ...        ...             ...            ...                ...   \n338  Gentoo     Biscoe        0.587352      -1.762145           0.931283   \n340  Gentoo     Biscoe        0.514098      -1.457000           1.002739   \n341  Gentoo     Biscoe        1.173384      -0.744994           1.502928   \n342  Gentoo     Biscoe        0.221082      -1.202712           0.788372   \n343  Gentoo     Biscoe        1.081817      -0.541564           0.859828   \n\n     body_mass_g     sex  \n0      -0.568475    MALE  \n1      -0.506286  FEMALE  \n2      -1.190361  FEMALE  \n4      -0.941606  FEMALE  \n5      -0.692852    MALE  \n..           ...     ...  \n338     0.892957  FEMALE  \n340     0.799674  FEMALE  \n341     1.919069    MALE  \n342     1.234995  FEMALE  \n343     1.483749    MALE  \n\n[333 rows x 7 columns]",
      "text/html": "<div>\n<style scoped>\n    .dataframe tbody tr th:only-of-type {\n        vertical-align: middle;\n    }\n\n    .dataframe tbody tr th {\n        vertical-align: top;\n    }\n\n    .dataframe thead th {\n        text-align: right;\n    }\n</style>\n<table border=\"1\" class=\"dataframe\">\n  <thead>\n    <tr style=\"text-align: right;\">\n      <th></th>\n      <th>species</th>\n      <th>island</th>\n      <th>bill_length_mm</th>\n      <th>bill_depth_mm</th>\n      <th>flipper_length_mm</th>\n      <th>body_mass_g</th>\n      <th>sex</th>\n    </tr>\n  </thead>\n  <tbody>\n    <tr>\n      <th>0</th>\n      <td>Adelie</td>\n      <td>Torgersen</td>\n      <td>-0.896042</td>\n      <td>0.780732</td>\n      <td>-1.426752</td>\n      <td>-0.568475</td>\n      <td>MALE</td>\n    </tr>\n    <tr>\n      <th>1</th>\n      <td>Adelie</td>\n      <td>Torgersen</td>\n      <td>-0.822788</td>\n      <td>0.119584</td>\n      <td>-1.069474</td>\n      <td>-0.506286</td>\n      <td>FEMALE</td>\n    </tr>\n    <tr>\n      <th>2</th>\n      <td>Adelie</td>\n      <td>Torgersen</td>\n      <td>-0.676280</td>\n      <td>0.424729</td>\n      <td>-0.426373</td>\n      <td>-1.190361</td>\n      <td>FEMALE</td>\n    </tr>\n    <tr>\n      <th>4</th>\n      <td>Adelie</td>\n      <td>Torgersen</td>\n      <td>-1.335566</td>\n      <td>1.085877</td>\n      <td>-0.569284</td>\n      <td>-0.941606</td>\n      <td>FEMALE</td>\n    </tr>\n    <tr>\n      <th>5</th>\n      <td>Adelie</td>\n      <td>Torgersen</td>\n      <td>-0.859415</td>\n      <td>1.747026</td>\n      <td>-0.783651</td>\n      <td>-0.692852</td>\n      <td>MALE</td>\n    </tr>\n    <tr>\n      <th>...</th>\n      <td>...</td>\n      <td>...</td>\n      <td>...</td>\n      <td>...</td>\n      <td>...</td>\n      <td>...</td>\n      <td>...</td>\n    </tr>\n    <tr>\n      <th>338</th>\n      <td>Gentoo</td>\n      <td>Biscoe</td>\n      <td>0.587352</td>\n      <td>-1.762145</td>\n      <td>0.931283</td>\n      <td>0.892957</td>\n      <td>FEMALE</td>\n    </tr>\n    <tr>\n      <th>340</th>\n      <td>Gentoo</td>\n      <td>Biscoe</td>\n      <td>0.514098</td>\n      <td>-1.457000</td>\n      <td>1.002739</td>\n      <td>0.799674</td>\n      <td>FEMALE</td>\n    </tr>\n    <tr>\n      <th>341</th>\n      <td>Gentoo</td>\n      <td>Biscoe</td>\n      <td>1.173384</td>\n      <td>-0.744994</td>\n      <td>1.502928</td>\n      <td>1.919069</td>\n      <td>MALE</td>\n    </tr>\n    <tr>\n      <th>342</th>\n      <td>Gentoo</td>\n      <td>Biscoe</td>\n      <td>0.221082</td>\n      <td>-1.202712</td>\n      <td>0.788372</td>\n      <td>1.234995</td>\n      <td>FEMALE</td>\n    </tr>\n    <tr>\n      <th>343</th>\n      <td>Gentoo</td>\n      <td>Biscoe</td>\n      <td>1.081817</td>\n      <td>-0.541564</td>\n      <td>0.859828</td>\n      <td>1.483749</td>\n      <td>MALE</td>\n    </tr>\n  </tbody>\n</table>\n<p>333 rows × 7 columns</p>\n</div>"
     },
     "metadata": {},
     "output_type": "display_data"
    }
   ],
   "source": [
    "ss = StandardScaler()\n",
    "dataset.iloc[:, 2:-1] = ss.fit_transform(dataset.iloc[:, 2:-1])\n",
    "display(dataset)"
   ],
   "metadata": {
    "collapsed": false,
    "pycharm": {
     "name": "#%%\n"
    }
   }
  },
  {
   "cell_type": "code",
   "execution_count": 145,
   "outputs": [
    {
     "data": {
      "text/plain": "    species     island  bill_length_mm  bill_depth_mm  flipper_length_mm  \\\n0    Adelie  Torgersen       -0.896042       0.780732          -1.426752   \n1    Adelie  Torgersen       -0.822788       0.119584          -1.069474   \n2    Adelie  Torgersen       -0.676280       0.424729          -0.426373   \n3    Adelie  Torgersen       -1.335566       1.085877          -0.569284   \n4    Adelie  Torgersen       -0.859415       1.747026          -0.783651   \n..      ...        ...             ...            ...                ...   \n328  Gentoo     Biscoe        0.587352      -1.762145           0.931283   \n329  Gentoo     Biscoe        0.514098      -1.457000           1.002739   \n330  Gentoo     Biscoe        1.173384      -0.744994           1.502928   \n331  Gentoo     Biscoe        0.221082      -1.202712           0.788372   \n332  Gentoo     Biscoe        1.081817      -0.541564           0.859828   \n\n     body_mass_g     sex  \n0      -0.568475    MALE  \n1      -0.506286  FEMALE  \n2      -1.190361  FEMALE  \n3      -0.941606  FEMALE  \n4      -0.692852    MALE  \n..           ...     ...  \n328     0.892957  FEMALE  \n329     0.799674  FEMALE  \n330     1.919069    MALE  \n331     1.234995  FEMALE  \n332     1.483749    MALE  \n\n[333 rows x 7 columns]",
      "text/html": "<div>\n<style scoped>\n    .dataframe tbody tr th:only-of-type {\n        vertical-align: middle;\n    }\n\n    .dataframe tbody tr th {\n        vertical-align: top;\n    }\n\n    .dataframe thead th {\n        text-align: right;\n    }\n</style>\n<table border=\"1\" class=\"dataframe\">\n  <thead>\n    <tr style=\"text-align: right;\">\n      <th></th>\n      <th>species</th>\n      <th>island</th>\n      <th>bill_length_mm</th>\n      <th>bill_depth_mm</th>\n      <th>flipper_length_mm</th>\n      <th>body_mass_g</th>\n      <th>sex</th>\n    </tr>\n  </thead>\n  <tbody>\n    <tr>\n      <th>0</th>\n      <td>Adelie</td>\n      <td>Torgersen</td>\n      <td>-0.896042</td>\n      <td>0.780732</td>\n      <td>-1.426752</td>\n      <td>-0.568475</td>\n      <td>MALE</td>\n    </tr>\n    <tr>\n      <th>1</th>\n      <td>Adelie</td>\n      <td>Torgersen</td>\n      <td>-0.822788</td>\n      <td>0.119584</td>\n      <td>-1.069474</td>\n      <td>-0.506286</td>\n      <td>FEMALE</td>\n    </tr>\n    <tr>\n      <th>2</th>\n      <td>Adelie</td>\n      <td>Torgersen</td>\n      <td>-0.676280</td>\n      <td>0.424729</td>\n      <td>-0.426373</td>\n      <td>-1.190361</td>\n      <td>FEMALE</td>\n    </tr>\n    <tr>\n      <th>3</th>\n      <td>Adelie</td>\n      <td>Torgersen</td>\n      <td>-1.335566</td>\n      <td>1.085877</td>\n      <td>-0.569284</td>\n      <td>-0.941606</td>\n      <td>FEMALE</td>\n    </tr>\n    <tr>\n      <th>4</th>\n      <td>Adelie</td>\n      <td>Torgersen</td>\n      <td>-0.859415</td>\n      <td>1.747026</td>\n      <td>-0.783651</td>\n      <td>-0.692852</td>\n      <td>MALE</td>\n    </tr>\n    <tr>\n      <th>...</th>\n      <td>...</td>\n      <td>...</td>\n      <td>...</td>\n      <td>...</td>\n      <td>...</td>\n      <td>...</td>\n      <td>...</td>\n    </tr>\n    <tr>\n      <th>328</th>\n      <td>Gentoo</td>\n      <td>Biscoe</td>\n      <td>0.587352</td>\n      <td>-1.762145</td>\n      <td>0.931283</td>\n      <td>0.892957</td>\n      <td>FEMALE</td>\n    </tr>\n    <tr>\n      <th>329</th>\n      <td>Gentoo</td>\n      <td>Biscoe</td>\n      <td>0.514098</td>\n      <td>-1.457000</td>\n      <td>1.002739</td>\n      <td>0.799674</td>\n      <td>FEMALE</td>\n    </tr>\n    <tr>\n      <th>330</th>\n      <td>Gentoo</td>\n      <td>Biscoe</td>\n      <td>1.173384</td>\n      <td>-0.744994</td>\n      <td>1.502928</td>\n      <td>1.919069</td>\n      <td>MALE</td>\n    </tr>\n    <tr>\n      <th>331</th>\n      <td>Gentoo</td>\n      <td>Biscoe</td>\n      <td>0.221082</td>\n      <td>-1.202712</td>\n      <td>0.788372</td>\n      <td>1.234995</td>\n      <td>FEMALE</td>\n    </tr>\n    <tr>\n      <th>332</th>\n      <td>Gentoo</td>\n      <td>Biscoe</td>\n      <td>1.081817</td>\n      <td>-0.541564</td>\n      <td>0.859828</td>\n      <td>1.483749</td>\n      <td>MALE</td>\n    </tr>\n  </tbody>\n</table>\n<p>333 rows × 7 columns</p>\n</div>"
     },
     "metadata": {},
     "output_type": "display_data"
    }
   ],
   "source": [
    "dataset = dataset.reset_index(drop=True)\n",
    "display(dataset)"
   ],
   "metadata": {
    "collapsed": false,
    "pycharm": {
     "name": "#%%\n"
    }
   }
  },
  {
   "cell_type": "code",
   "execution_count": 146,
   "outputs": [
    {
     "name": "stderr",
     "output_type": "stream",
     "text": [
      "d:\\github\\introduction-to-data-mining\\venv\\lib\\site-packages\\sklearn\\preprocessing\\_label.py:115: DataConversionWarning: A column-vector y was passed when a 1d array was expected. Please change the shape of y to (n_samples, ), for example using ravel().\n",
      "  y = column_or_1d(y, warn=True)\n"
     ]
    },
    {
     "data": {
      "text/plain": "     species     island  bill_length_mm  bill_depth_mm  flipper_length_mm  \\\n0          0  Torgersen       -0.896042       0.780732          -1.426752   \n1          0  Torgersen       -0.822788       0.119584          -1.069474   \n2          0  Torgersen       -0.676280       0.424729          -0.426373   \n3          0  Torgersen       -1.335566       1.085877          -0.569284   \n4          0  Torgersen       -0.859415       1.747026          -0.783651   \n..       ...        ...             ...            ...                ...   \n328        2     Biscoe        0.587352      -1.762145           0.931283   \n329        2     Biscoe        0.514098      -1.457000           1.002739   \n330        2     Biscoe        1.173384      -0.744994           1.502928   \n331        2     Biscoe        0.221082      -1.202712           0.788372   \n332        2     Biscoe        1.081817      -0.541564           0.859828   \n\n     body_mass_g     sex  \n0      -0.568475    MALE  \n1      -0.506286  FEMALE  \n2      -1.190361  FEMALE  \n3      -0.941606  FEMALE  \n4      -0.692852    MALE  \n..           ...     ...  \n328     0.892957  FEMALE  \n329     0.799674  FEMALE  \n330     1.919069    MALE  \n331     1.234995  FEMALE  \n332     1.483749    MALE  \n\n[333 rows x 7 columns]",
      "text/html": "<div>\n<style scoped>\n    .dataframe tbody tr th:only-of-type {\n        vertical-align: middle;\n    }\n\n    .dataframe tbody tr th {\n        vertical-align: top;\n    }\n\n    .dataframe thead th {\n        text-align: right;\n    }\n</style>\n<table border=\"1\" class=\"dataframe\">\n  <thead>\n    <tr style=\"text-align: right;\">\n      <th></th>\n      <th>species</th>\n      <th>island</th>\n      <th>bill_length_mm</th>\n      <th>bill_depth_mm</th>\n      <th>flipper_length_mm</th>\n      <th>body_mass_g</th>\n      <th>sex</th>\n    </tr>\n  </thead>\n  <tbody>\n    <tr>\n      <th>0</th>\n      <td>0</td>\n      <td>Torgersen</td>\n      <td>-0.896042</td>\n      <td>0.780732</td>\n      <td>-1.426752</td>\n      <td>-0.568475</td>\n      <td>MALE</td>\n    </tr>\n    <tr>\n      <th>1</th>\n      <td>0</td>\n      <td>Torgersen</td>\n      <td>-0.822788</td>\n      <td>0.119584</td>\n      <td>-1.069474</td>\n      <td>-0.506286</td>\n      <td>FEMALE</td>\n    </tr>\n    <tr>\n      <th>2</th>\n      <td>0</td>\n      <td>Torgersen</td>\n      <td>-0.676280</td>\n      <td>0.424729</td>\n      <td>-0.426373</td>\n      <td>-1.190361</td>\n      <td>FEMALE</td>\n    </tr>\n    <tr>\n      <th>3</th>\n      <td>0</td>\n      <td>Torgersen</td>\n      <td>-1.335566</td>\n      <td>1.085877</td>\n      <td>-0.569284</td>\n      <td>-0.941606</td>\n      <td>FEMALE</td>\n    </tr>\n    <tr>\n      <th>4</th>\n      <td>0</td>\n      <td>Torgersen</td>\n      <td>-0.859415</td>\n      <td>1.747026</td>\n      <td>-0.783651</td>\n      <td>-0.692852</td>\n      <td>MALE</td>\n    </tr>\n    <tr>\n      <th>...</th>\n      <td>...</td>\n      <td>...</td>\n      <td>...</td>\n      <td>...</td>\n      <td>...</td>\n      <td>...</td>\n      <td>...</td>\n    </tr>\n    <tr>\n      <th>328</th>\n      <td>2</td>\n      <td>Biscoe</td>\n      <td>0.587352</td>\n      <td>-1.762145</td>\n      <td>0.931283</td>\n      <td>0.892957</td>\n      <td>FEMALE</td>\n    </tr>\n    <tr>\n      <th>329</th>\n      <td>2</td>\n      <td>Biscoe</td>\n      <td>0.514098</td>\n      <td>-1.457000</td>\n      <td>1.002739</td>\n      <td>0.799674</td>\n      <td>FEMALE</td>\n    </tr>\n    <tr>\n      <th>330</th>\n      <td>2</td>\n      <td>Biscoe</td>\n      <td>1.173384</td>\n      <td>-0.744994</td>\n      <td>1.502928</td>\n      <td>1.919069</td>\n      <td>MALE</td>\n    </tr>\n    <tr>\n      <th>331</th>\n      <td>2</td>\n      <td>Biscoe</td>\n      <td>0.221082</td>\n      <td>-1.202712</td>\n      <td>0.788372</td>\n      <td>1.234995</td>\n      <td>FEMALE</td>\n    </tr>\n    <tr>\n      <th>332</th>\n      <td>2</td>\n      <td>Biscoe</td>\n      <td>1.081817</td>\n      <td>-0.541564</td>\n      <td>0.859828</td>\n      <td>1.483749</td>\n      <td>MALE</td>\n    </tr>\n  </tbody>\n</table>\n<p>333 rows × 7 columns</p>\n</div>"
     },
     "metadata": {},
     "output_type": "display_data"
    }
   ],
   "source": [
    "le_spe = LabelEncoder()\n",
    "dataset['species'] = le_spe.fit_transform(dataset[['species']])\n",
    "display(dataset)"
   ],
   "metadata": {
    "collapsed": false,
    "pycharm": {
     "name": "#%%\n"
    }
   }
  },
  {
   "cell_type": "code",
   "execution_count": 147,
   "outputs": [
    {
     "name": "stderr",
     "output_type": "stream",
     "text": [
      "d:\\github\\introduction-to-data-mining\\venv\\lib\\site-packages\\sklearn\\preprocessing\\_label.py:115: DataConversionWarning: A column-vector y was passed when a 1d array was expected. Please change the shape of y to (n_samples, ), for example using ravel().\n",
      "  y = column_or_1d(y, warn=True)\n"
     ]
    },
    {
     "data": {
      "text/plain": "     species  island  bill_length_mm  bill_depth_mm  flipper_length_mm  \\\n0          0       2       -0.896042       0.780732          -1.426752   \n1          0       2       -0.822788       0.119584          -1.069474   \n2          0       2       -0.676280       0.424729          -0.426373   \n3          0       2       -1.335566       1.085877          -0.569284   \n4          0       2       -0.859415       1.747026          -0.783651   \n..       ...     ...             ...            ...                ...   \n328        2       0        0.587352      -1.762145           0.931283   \n329        2       0        0.514098      -1.457000           1.002739   \n330        2       0        1.173384      -0.744994           1.502928   \n331        2       0        0.221082      -1.202712           0.788372   \n332        2       0        1.081817      -0.541564           0.859828   \n\n     body_mass_g     sex  \n0      -0.568475    MALE  \n1      -0.506286  FEMALE  \n2      -1.190361  FEMALE  \n3      -0.941606  FEMALE  \n4      -0.692852    MALE  \n..           ...     ...  \n328     0.892957  FEMALE  \n329     0.799674  FEMALE  \n330     1.919069    MALE  \n331     1.234995  FEMALE  \n332     1.483749    MALE  \n\n[333 rows x 7 columns]",
      "text/html": "<div>\n<style scoped>\n    .dataframe tbody tr th:only-of-type {\n        vertical-align: middle;\n    }\n\n    .dataframe tbody tr th {\n        vertical-align: top;\n    }\n\n    .dataframe thead th {\n        text-align: right;\n    }\n</style>\n<table border=\"1\" class=\"dataframe\">\n  <thead>\n    <tr style=\"text-align: right;\">\n      <th></th>\n      <th>species</th>\n      <th>island</th>\n      <th>bill_length_mm</th>\n      <th>bill_depth_mm</th>\n      <th>flipper_length_mm</th>\n      <th>body_mass_g</th>\n      <th>sex</th>\n    </tr>\n  </thead>\n  <tbody>\n    <tr>\n      <th>0</th>\n      <td>0</td>\n      <td>2</td>\n      <td>-0.896042</td>\n      <td>0.780732</td>\n      <td>-1.426752</td>\n      <td>-0.568475</td>\n      <td>MALE</td>\n    </tr>\n    <tr>\n      <th>1</th>\n      <td>0</td>\n      <td>2</td>\n      <td>-0.822788</td>\n      <td>0.119584</td>\n      <td>-1.069474</td>\n      <td>-0.506286</td>\n      <td>FEMALE</td>\n    </tr>\n    <tr>\n      <th>2</th>\n      <td>0</td>\n      <td>2</td>\n      <td>-0.676280</td>\n      <td>0.424729</td>\n      <td>-0.426373</td>\n      <td>-1.190361</td>\n      <td>FEMALE</td>\n    </tr>\n    <tr>\n      <th>3</th>\n      <td>0</td>\n      <td>2</td>\n      <td>-1.335566</td>\n      <td>1.085877</td>\n      <td>-0.569284</td>\n      <td>-0.941606</td>\n      <td>FEMALE</td>\n    </tr>\n    <tr>\n      <th>4</th>\n      <td>0</td>\n      <td>2</td>\n      <td>-0.859415</td>\n      <td>1.747026</td>\n      <td>-0.783651</td>\n      <td>-0.692852</td>\n      <td>MALE</td>\n    </tr>\n    <tr>\n      <th>...</th>\n      <td>...</td>\n      <td>...</td>\n      <td>...</td>\n      <td>...</td>\n      <td>...</td>\n      <td>...</td>\n      <td>...</td>\n    </tr>\n    <tr>\n      <th>328</th>\n      <td>2</td>\n      <td>0</td>\n      <td>0.587352</td>\n      <td>-1.762145</td>\n      <td>0.931283</td>\n      <td>0.892957</td>\n      <td>FEMALE</td>\n    </tr>\n    <tr>\n      <th>329</th>\n      <td>2</td>\n      <td>0</td>\n      <td>0.514098</td>\n      <td>-1.457000</td>\n      <td>1.002739</td>\n      <td>0.799674</td>\n      <td>FEMALE</td>\n    </tr>\n    <tr>\n      <th>330</th>\n      <td>2</td>\n      <td>0</td>\n      <td>1.173384</td>\n      <td>-0.744994</td>\n      <td>1.502928</td>\n      <td>1.919069</td>\n      <td>MALE</td>\n    </tr>\n    <tr>\n      <th>331</th>\n      <td>2</td>\n      <td>0</td>\n      <td>0.221082</td>\n      <td>-1.202712</td>\n      <td>0.788372</td>\n      <td>1.234995</td>\n      <td>FEMALE</td>\n    </tr>\n    <tr>\n      <th>332</th>\n      <td>2</td>\n      <td>0</td>\n      <td>1.081817</td>\n      <td>-0.541564</td>\n      <td>0.859828</td>\n      <td>1.483749</td>\n      <td>MALE</td>\n    </tr>\n  </tbody>\n</table>\n<p>333 rows × 7 columns</p>\n</div>"
     },
     "metadata": {},
     "output_type": "display_data"
    }
   ],
   "source": [
    "le_isl = LabelEncoder()\n",
    "dataset['island'] = le_isl.fit_transform(dataset[['island']])\n",
    "display(dataset)"
   ],
   "metadata": {
    "collapsed": false,
    "pycharm": {
     "name": "#%%\n"
    }
   }
  },
  {
   "cell_type": "code",
   "execution_count": 148,
   "outputs": [
    {
     "name": "stderr",
     "output_type": "stream",
     "text": [
      "d:\\github\\introduction-to-data-mining\\venv\\lib\\site-packages\\sklearn\\preprocessing\\_label.py:115: DataConversionWarning: A column-vector y was passed when a 1d array was expected. Please change the shape of y to (n_samples, ), for example using ravel().\n",
      "  y = column_or_1d(y, warn=True)\n"
     ]
    },
    {
     "data": {
      "text/plain": "     species  island  bill_length_mm  bill_depth_mm  flipper_length_mm  \\\n0          0       2       -0.896042       0.780732          -1.426752   \n1          0       2       -0.822788       0.119584          -1.069474   \n2          0       2       -0.676280       0.424729          -0.426373   \n3          0       2       -1.335566       1.085877          -0.569284   \n4          0       2       -0.859415       1.747026          -0.783651   \n..       ...     ...             ...            ...                ...   \n328        2       0        0.587352      -1.762145           0.931283   \n329        2       0        0.514098      -1.457000           1.002739   \n330        2       0        1.173384      -0.744994           1.502928   \n331        2       0        0.221082      -1.202712           0.788372   \n332        2       0        1.081817      -0.541564           0.859828   \n\n     body_mass_g  sex  \n0      -0.568475    1  \n1      -0.506286    0  \n2      -1.190361    0  \n3      -0.941606    0  \n4      -0.692852    1  \n..           ...  ...  \n328     0.892957    0  \n329     0.799674    0  \n330     1.919069    1  \n331     1.234995    0  \n332     1.483749    1  \n\n[333 rows x 7 columns]",
      "text/html": "<div>\n<style scoped>\n    .dataframe tbody tr th:only-of-type {\n        vertical-align: middle;\n    }\n\n    .dataframe tbody tr th {\n        vertical-align: top;\n    }\n\n    .dataframe thead th {\n        text-align: right;\n    }\n</style>\n<table border=\"1\" class=\"dataframe\">\n  <thead>\n    <tr style=\"text-align: right;\">\n      <th></th>\n      <th>species</th>\n      <th>island</th>\n      <th>bill_length_mm</th>\n      <th>bill_depth_mm</th>\n      <th>flipper_length_mm</th>\n      <th>body_mass_g</th>\n      <th>sex</th>\n    </tr>\n  </thead>\n  <tbody>\n    <tr>\n      <th>0</th>\n      <td>0</td>\n      <td>2</td>\n      <td>-0.896042</td>\n      <td>0.780732</td>\n      <td>-1.426752</td>\n      <td>-0.568475</td>\n      <td>1</td>\n    </tr>\n    <tr>\n      <th>1</th>\n      <td>0</td>\n      <td>2</td>\n      <td>-0.822788</td>\n      <td>0.119584</td>\n      <td>-1.069474</td>\n      <td>-0.506286</td>\n      <td>0</td>\n    </tr>\n    <tr>\n      <th>2</th>\n      <td>0</td>\n      <td>2</td>\n      <td>-0.676280</td>\n      <td>0.424729</td>\n      <td>-0.426373</td>\n      <td>-1.190361</td>\n      <td>0</td>\n    </tr>\n    <tr>\n      <th>3</th>\n      <td>0</td>\n      <td>2</td>\n      <td>-1.335566</td>\n      <td>1.085877</td>\n      <td>-0.569284</td>\n      <td>-0.941606</td>\n      <td>0</td>\n    </tr>\n    <tr>\n      <th>4</th>\n      <td>0</td>\n      <td>2</td>\n      <td>-0.859415</td>\n      <td>1.747026</td>\n      <td>-0.783651</td>\n      <td>-0.692852</td>\n      <td>1</td>\n    </tr>\n    <tr>\n      <th>...</th>\n      <td>...</td>\n      <td>...</td>\n      <td>...</td>\n      <td>...</td>\n      <td>...</td>\n      <td>...</td>\n      <td>...</td>\n    </tr>\n    <tr>\n      <th>328</th>\n      <td>2</td>\n      <td>0</td>\n      <td>0.587352</td>\n      <td>-1.762145</td>\n      <td>0.931283</td>\n      <td>0.892957</td>\n      <td>0</td>\n    </tr>\n    <tr>\n      <th>329</th>\n      <td>2</td>\n      <td>0</td>\n      <td>0.514098</td>\n      <td>-1.457000</td>\n      <td>1.002739</td>\n      <td>0.799674</td>\n      <td>0</td>\n    </tr>\n    <tr>\n      <th>330</th>\n      <td>2</td>\n      <td>0</td>\n      <td>1.173384</td>\n      <td>-0.744994</td>\n      <td>1.502928</td>\n      <td>1.919069</td>\n      <td>1</td>\n    </tr>\n    <tr>\n      <th>331</th>\n      <td>2</td>\n      <td>0</td>\n      <td>0.221082</td>\n      <td>-1.202712</td>\n      <td>0.788372</td>\n      <td>1.234995</td>\n      <td>0</td>\n    </tr>\n    <tr>\n      <th>332</th>\n      <td>2</td>\n      <td>0</td>\n      <td>1.081817</td>\n      <td>-0.541564</td>\n      <td>0.859828</td>\n      <td>1.483749</td>\n      <td>1</td>\n    </tr>\n  </tbody>\n</table>\n<p>333 rows × 7 columns</p>\n</div>"
     },
     "metadata": {},
     "output_type": "display_data"
    }
   ],
   "source": [
    "le_sex = LabelEncoder()\n",
    "dataset['sex'] = le_sex.fit_transform(dataset[['sex']])\n",
    "display(dataset)"
   ],
   "metadata": {
    "collapsed": false,
    "pycharm": {
     "name": "#%%\n"
    }
   }
  },
  {
   "cell_type": "markdown",
   "source": [
    "## Split Test & Train"
   ],
   "metadata": {
    "collapsed": false,
    "pycharm": {
     "name": "#%% md\n"
    }
   }
  },
  {
   "cell_type": "code",
   "execution_count": 149,
   "outputs": [],
   "source": [
    "X = dataset.iloc[:, 0:-1]\n",
    "y = dataset[['sex']]\n",
    "X_train, X_test, y_train, y_test = train_test_split(X, y, test_size = 0.2)"
   ],
   "metadata": {
    "collapsed": false,
    "pycharm": {
     "name": "#%%\n"
    }
   }
  },
  {
   "cell_type": "code",
   "execution_count": 150,
   "outputs": [
    {
     "data": {
      "text/plain": "     species  island  bill_length_mm  bill_depth_mm  flipper_length_mm  \\\n289        2       0        1.301579      -0.439849           1.360017   \n285        2       0        0.459158      -1.202712           1.145650   \n87         0       1       -0.804474       0.475587          -1.069474   \n152        1       1        0.385904       0.526444          -1.641118   \n258        2       0       -0.071934      -1.660430           1.145650   \n..       ...     ...             ...            ...                ...   \n49         0       0       -0.474831       0.729875          -0.712196   \n104        0       0       -1.079177      -0.338134          -0.212006   \n267        2       0        0.459158      -1.406143           1.145650   \n98         0       0       -1.115804       0.729875          -0.569284   \n124        0       2       -1.005923       0.373872          -0.783651   \n\n     body_mass_g  \n289     2.230012  \n285     1.234995  \n87      0.302166  \n152    -1.190361  \n258     0.861863  \n..           ...  \n49     -0.630663  \n104    -0.475192  \n267     0.861863  \n98     -1.594587  \n124    -1.097078  \n\n[266 rows x 6 columns]",
      "text/html": "<div>\n<style scoped>\n    .dataframe tbody tr th:only-of-type {\n        vertical-align: middle;\n    }\n\n    .dataframe tbody tr th {\n        vertical-align: top;\n    }\n\n    .dataframe thead th {\n        text-align: right;\n    }\n</style>\n<table border=\"1\" class=\"dataframe\">\n  <thead>\n    <tr style=\"text-align: right;\">\n      <th></th>\n      <th>species</th>\n      <th>island</th>\n      <th>bill_length_mm</th>\n      <th>bill_depth_mm</th>\n      <th>flipper_length_mm</th>\n      <th>body_mass_g</th>\n    </tr>\n  </thead>\n  <tbody>\n    <tr>\n      <th>289</th>\n      <td>2</td>\n      <td>0</td>\n      <td>1.301579</td>\n      <td>-0.439849</td>\n      <td>1.360017</td>\n      <td>2.230012</td>\n    </tr>\n    <tr>\n      <th>285</th>\n      <td>2</td>\n      <td>0</td>\n      <td>0.459158</td>\n      <td>-1.202712</td>\n      <td>1.145650</td>\n      <td>1.234995</td>\n    </tr>\n    <tr>\n      <th>87</th>\n      <td>0</td>\n      <td>1</td>\n      <td>-0.804474</td>\n      <td>0.475587</td>\n      <td>-1.069474</td>\n      <td>0.302166</td>\n    </tr>\n    <tr>\n      <th>152</th>\n      <td>1</td>\n      <td>1</td>\n      <td>0.385904</td>\n      <td>0.526444</td>\n      <td>-1.641118</td>\n      <td>-1.190361</td>\n    </tr>\n    <tr>\n      <th>258</th>\n      <td>2</td>\n      <td>0</td>\n      <td>-0.071934</td>\n      <td>-1.660430</td>\n      <td>1.145650</td>\n      <td>0.861863</td>\n    </tr>\n    <tr>\n      <th>...</th>\n      <td>...</td>\n      <td>...</td>\n      <td>...</td>\n      <td>...</td>\n      <td>...</td>\n      <td>...</td>\n    </tr>\n    <tr>\n      <th>49</th>\n      <td>0</td>\n      <td>0</td>\n      <td>-0.474831</td>\n      <td>0.729875</td>\n      <td>-0.712196</td>\n      <td>-0.630663</td>\n    </tr>\n    <tr>\n      <th>104</th>\n      <td>0</td>\n      <td>0</td>\n      <td>-1.079177</td>\n      <td>-0.338134</td>\n      <td>-0.212006</td>\n      <td>-0.475192</td>\n    </tr>\n    <tr>\n      <th>267</th>\n      <td>2</td>\n      <td>0</td>\n      <td>0.459158</td>\n      <td>-1.406143</td>\n      <td>1.145650</td>\n      <td>0.861863</td>\n    </tr>\n    <tr>\n      <th>98</th>\n      <td>0</td>\n      <td>0</td>\n      <td>-1.115804</td>\n      <td>0.729875</td>\n      <td>-0.569284</td>\n      <td>-1.594587</td>\n    </tr>\n    <tr>\n      <th>124</th>\n      <td>0</td>\n      <td>2</td>\n      <td>-1.005923</td>\n      <td>0.373872</td>\n      <td>-0.783651</td>\n      <td>-1.097078</td>\n    </tr>\n  </tbody>\n</table>\n<p>266 rows × 6 columns</p>\n</div>"
     },
     "metadata": {},
     "output_type": "display_data"
    },
    {
     "data": {
      "text/plain": "     sex\n289    1\n285    0\n87     1\n152    0\n258    0\n..   ...\n49     1\n104    0\n267    0\n98     0\n124    0\n\n[266 rows x 1 columns]",
      "text/html": "<div>\n<style scoped>\n    .dataframe tbody tr th:only-of-type {\n        vertical-align: middle;\n    }\n\n    .dataframe tbody tr th {\n        vertical-align: top;\n    }\n\n    .dataframe thead th {\n        text-align: right;\n    }\n</style>\n<table border=\"1\" class=\"dataframe\">\n  <thead>\n    <tr style=\"text-align: right;\">\n      <th></th>\n      <th>sex</th>\n    </tr>\n  </thead>\n  <tbody>\n    <tr>\n      <th>289</th>\n      <td>1</td>\n    </tr>\n    <tr>\n      <th>285</th>\n      <td>0</td>\n    </tr>\n    <tr>\n      <th>87</th>\n      <td>1</td>\n    </tr>\n    <tr>\n      <th>152</th>\n      <td>0</td>\n    </tr>\n    <tr>\n      <th>258</th>\n      <td>0</td>\n    </tr>\n    <tr>\n      <th>...</th>\n      <td>...</td>\n    </tr>\n    <tr>\n      <th>49</th>\n      <td>1</td>\n    </tr>\n    <tr>\n      <th>104</th>\n      <td>0</td>\n    </tr>\n    <tr>\n      <th>267</th>\n      <td>0</td>\n    </tr>\n    <tr>\n      <th>98</th>\n      <td>0</td>\n    </tr>\n    <tr>\n      <th>124</th>\n      <td>0</td>\n    </tr>\n  </tbody>\n</table>\n<p>266 rows × 1 columns</p>\n</div>"
     },
     "metadata": {},
     "output_type": "display_data"
    }
   ],
   "source": [
    "display(X_train)\n",
    "display(y_train)"
   ],
   "metadata": {
    "collapsed": false,
    "pycharm": {
     "name": "#%%\n"
    }
   }
  },
  {
   "cell_type": "code",
   "execution_count": 151,
   "outputs": [
    {
     "data": {
      "text/plain": "     species  island  bill_length_mm  bill_depth_mm  flipper_length_mm  \\\n36         0       1       -0.584712       0.628159          -0.426373   \n332        2       0        1.081817      -0.541564           0.859828   \n269        2       0       -0.035307      -1.660430           0.502550   \n158        1       1        0.550725       0.068726          -1.140929   \n142        0       1       -1.463761       0.323014          -0.426373   \n..       ...     ...             ...            ...                ...   \n105        0       0        0.294336       1.594453          -0.712196   \n134        0       1       -0.694593      -0.032989          -0.569284   \n136        0       1       -2.177987      -0.846709          -0.926562   \n23         0       0       -1.115804       0.729875          -2.069852   \n61         0       0       -0.529772       0.984162          -0.926562   \n\n     body_mass_g  \n36     -0.381909  \n332     1.483749  \n269     0.115600  \n158    -0.630663  \n142    -0.941606  \n..           ...  \n105     0.488731  \n134    -1.003795  \n136    -1.439115  \n23     -1.314738  \n61     -0.133155  \n\n[67 rows x 6 columns]",
      "text/html": "<div>\n<style scoped>\n    .dataframe tbody tr th:only-of-type {\n        vertical-align: middle;\n    }\n\n    .dataframe tbody tr th {\n        vertical-align: top;\n    }\n\n    .dataframe thead th {\n        text-align: right;\n    }\n</style>\n<table border=\"1\" class=\"dataframe\">\n  <thead>\n    <tr style=\"text-align: right;\">\n      <th></th>\n      <th>species</th>\n      <th>island</th>\n      <th>bill_length_mm</th>\n      <th>bill_depth_mm</th>\n      <th>flipper_length_mm</th>\n      <th>body_mass_g</th>\n    </tr>\n  </thead>\n  <tbody>\n    <tr>\n      <th>36</th>\n      <td>0</td>\n      <td>1</td>\n      <td>-0.584712</td>\n      <td>0.628159</td>\n      <td>-0.426373</td>\n      <td>-0.381909</td>\n    </tr>\n    <tr>\n      <th>332</th>\n      <td>2</td>\n      <td>0</td>\n      <td>1.081817</td>\n      <td>-0.541564</td>\n      <td>0.859828</td>\n      <td>1.483749</td>\n    </tr>\n    <tr>\n      <th>269</th>\n      <td>2</td>\n      <td>0</td>\n      <td>-0.035307</td>\n      <td>-1.660430</td>\n      <td>0.502550</td>\n      <td>0.115600</td>\n    </tr>\n    <tr>\n      <th>158</th>\n      <td>1</td>\n      <td>1</td>\n      <td>0.550725</td>\n      <td>0.068726</td>\n      <td>-1.140929</td>\n      <td>-0.630663</td>\n    </tr>\n    <tr>\n      <th>142</th>\n      <td>0</td>\n      <td>1</td>\n      <td>-1.463761</td>\n      <td>0.323014</td>\n      <td>-0.426373</td>\n      <td>-0.941606</td>\n    </tr>\n    <tr>\n      <th>...</th>\n      <td>...</td>\n      <td>...</td>\n      <td>...</td>\n      <td>...</td>\n      <td>...</td>\n      <td>...</td>\n    </tr>\n    <tr>\n      <th>105</th>\n      <td>0</td>\n      <td>0</td>\n      <td>0.294336</td>\n      <td>1.594453</td>\n      <td>-0.712196</td>\n      <td>0.488731</td>\n    </tr>\n    <tr>\n      <th>134</th>\n      <td>0</td>\n      <td>1</td>\n      <td>-0.694593</td>\n      <td>-0.032989</td>\n      <td>-0.569284</td>\n      <td>-1.003795</td>\n    </tr>\n    <tr>\n      <th>136</th>\n      <td>0</td>\n      <td>1</td>\n      <td>-2.177987</td>\n      <td>-0.846709</td>\n      <td>-0.926562</td>\n      <td>-1.439115</td>\n    </tr>\n    <tr>\n      <th>23</th>\n      <td>0</td>\n      <td>0</td>\n      <td>-1.115804</td>\n      <td>0.729875</td>\n      <td>-2.069852</td>\n      <td>-1.314738</td>\n    </tr>\n    <tr>\n      <th>61</th>\n      <td>0</td>\n      <td>0</td>\n      <td>-0.529772</td>\n      <td>0.984162</td>\n      <td>-0.926562</td>\n      <td>-0.133155</td>\n    </tr>\n  </tbody>\n</table>\n<p>67 rows × 6 columns</p>\n</div>"
     },
     "metadata": {},
     "output_type": "display_data"
    },
    {
     "data": {
      "text/plain": "     sex\n36     1\n332    1\n269    0\n158    0\n142    0\n..   ...\n105    1\n134    0\n136    0\n23     0\n61     1\n\n[67 rows x 1 columns]",
      "text/html": "<div>\n<style scoped>\n    .dataframe tbody tr th:only-of-type {\n        vertical-align: middle;\n    }\n\n    .dataframe tbody tr th {\n        vertical-align: top;\n    }\n\n    .dataframe thead th {\n        text-align: right;\n    }\n</style>\n<table border=\"1\" class=\"dataframe\">\n  <thead>\n    <tr style=\"text-align: right;\">\n      <th></th>\n      <th>sex</th>\n    </tr>\n  </thead>\n  <tbody>\n    <tr>\n      <th>36</th>\n      <td>1</td>\n    </tr>\n    <tr>\n      <th>332</th>\n      <td>1</td>\n    </tr>\n    <tr>\n      <th>269</th>\n      <td>0</td>\n    </tr>\n    <tr>\n      <th>158</th>\n      <td>0</td>\n    </tr>\n    <tr>\n      <th>142</th>\n      <td>0</td>\n    </tr>\n    <tr>\n      <th>...</th>\n      <td>...</td>\n    </tr>\n    <tr>\n      <th>105</th>\n      <td>1</td>\n    </tr>\n    <tr>\n      <th>134</th>\n      <td>0</td>\n    </tr>\n    <tr>\n      <th>136</th>\n      <td>0</td>\n    </tr>\n    <tr>\n      <th>23</th>\n      <td>0</td>\n    </tr>\n    <tr>\n      <th>61</th>\n      <td>1</td>\n    </tr>\n  </tbody>\n</table>\n<p>67 rows × 1 columns</p>\n</div>"
     },
     "metadata": {},
     "output_type": "display_data"
    }
   ],
   "source": [
    "display(X_test)\n",
    "display(y_test)"
   ],
   "metadata": {
    "collapsed": false,
    "pycharm": {
     "name": "#%%\n"
    }
   }
  },
  {
   "cell_type": "markdown",
   "source": [
    "## Do KNN with K = 5"
   ],
   "metadata": {
    "collapsed": false,
    "pycharm": {
     "name": "#%% md\n"
    }
   }
  },
  {
   "cell_type": "code",
   "execution_count": 152,
   "outputs": [
    {
     "name": "stderr",
     "output_type": "stream",
     "text": [
      "d:\\github\\introduction-to-data-mining\\venv\\lib\\site-packages\\sklearn\\neighbors\\_classification.py:198: DataConversionWarning: A column-vector y was passed when a 1d array was expected. Please change the shape of y to (n_samples,), for example using ravel().\n",
      "  return self._fit(X, y)\n"
     ]
    }
   ],
   "source": [
    "classifier_sex = KNeighborsClassifier(n_neighbors=5)\n",
    "classifier_sex.fit(X_train, y_train)\n",
    "y_prediction = classifier_sex.predict(X_test)"
   ],
   "metadata": {
    "collapsed": false,
    "pycharm": {
     "name": "#%%\n"
    }
   }
  },
  {
   "cell_type": "markdown",
   "source": [
    "## confusion_matrix & classification_report"
   ],
   "metadata": {
    "collapsed": false,
    "pycharm": {
     "name": "#%% md\n"
    }
   }
  },
  {
   "cell_type": "code",
   "execution_count": 153,
   "outputs": [
    {
     "name": "stdout",
     "output_type": "stream",
     "text": [
      "[[30  5]\n",
      " [ 2 30]]\n",
      "              precision    recall  f1-score   support\n",
      "\n",
      "           0       0.94      0.86      0.90        35\n",
      "           1       0.86      0.94      0.90        32\n",
      "\n",
      "    accuracy                           0.90        67\n",
      "   macro avg       0.90      0.90      0.90        67\n",
      "weighted avg       0.90      0.90      0.90        67\n",
      "\n"
     ]
    }
   ],
   "source": [
    "print(confusion_matrix(y_test, y_prediction))\n",
    "print(classification_report(y_test, y_prediction))"
   ],
   "metadata": {
    "collapsed": false,
    "pycharm": {
     "name": "#%%\n"
    }
   }
  },
  {
   "cell_type": "markdown",
   "source": [
    "## for species"
   ],
   "metadata": {
    "collapsed": false,
    "pycharm": {
     "name": "#%% md\n"
    }
   }
  },
  {
   "cell_type": "code",
   "execution_count": 154,
   "outputs": [],
   "source": [
    "X_s = dataset.iloc[:, 1:]\n",
    "y_s = dataset[['species']]\n",
    "X_s_train, X_s_test, y_s_train, y_s_test = train_test_split(X_s, y_s, test_size = 0.2)"
   ],
   "metadata": {
    "collapsed": false,
    "pycharm": {
     "name": "#%%\n"
    }
   }
  },
  {
   "cell_type": "code",
   "execution_count": 155,
   "outputs": [
    {
     "data": {
      "text/plain": "     island  bill_length_mm  bill_depth_mm  flipper_length_mm  body_mass_g  \\\n122       2       -0.914355      -0.032989          -0.712196    -1.439115   \n287       0        0.843741      -0.592422           2.074573     1.981258   \n236       0        0.459158      -1.355285           0.859828     0.239977   \n167       1        0.825428       0.170442          -0.712196    -1.003795   \n83        1       -0.932669       0.831590          -0.783651    -0.755041   \n..      ...             ...            ...                ...          ...   \n208       1        0.312649      -0.083846          -0.426373    -0.692852   \n186       1        0.916995       1.187592           0.645461    -0.319720   \n202       1        0.221082      -0.287276          -0.712196    -1.190361   \n249       0       -0.255069      -1.762145           0.859828     0.924052   \n311       0        1.301579      -0.338134           1.717295     1.297183   \n\n     sex  \n122    0  \n287    1  \n236    0  \n167    1  \n83     0  \n..   ...  \n208    0  \n186    1  \n202    0  \n249    0  \n311    1  \n\n[266 rows x 6 columns]",
      "text/html": "<div>\n<style scoped>\n    .dataframe tbody tr th:only-of-type {\n        vertical-align: middle;\n    }\n\n    .dataframe tbody tr th {\n        vertical-align: top;\n    }\n\n    .dataframe thead th {\n        text-align: right;\n    }\n</style>\n<table border=\"1\" class=\"dataframe\">\n  <thead>\n    <tr style=\"text-align: right;\">\n      <th></th>\n      <th>island</th>\n      <th>bill_length_mm</th>\n      <th>bill_depth_mm</th>\n      <th>flipper_length_mm</th>\n      <th>body_mass_g</th>\n      <th>sex</th>\n    </tr>\n  </thead>\n  <tbody>\n    <tr>\n      <th>122</th>\n      <td>2</td>\n      <td>-0.914355</td>\n      <td>-0.032989</td>\n      <td>-0.712196</td>\n      <td>-1.439115</td>\n      <td>0</td>\n    </tr>\n    <tr>\n      <th>287</th>\n      <td>0</td>\n      <td>0.843741</td>\n      <td>-0.592422</td>\n      <td>2.074573</td>\n      <td>1.981258</td>\n      <td>1</td>\n    </tr>\n    <tr>\n      <th>236</th>\n      <td>0</td>\n      <td>0.459158</td>\n      <td>-1.355285</td>\n      <td>0.859828</td>\n      <td>0.239977</td>\n      <td>0</td>\n    </tr>\n    <tr>\n      <th>167</th>\n      <td>1</td>\n      <td>0.825428</td>\n      <td>0.170442</td>\n      <td>-0.712196</td>\n      <td>-1.003795</td>\n      <td>1</td>\n    </tr>\n    <tr>\n      <th>83</th>\n      <td>1</td>\n      <td>-0.932669</td>\n      <td>0.831590</td>\n      <td>-0.783651</td>\n      <td>-0.755041</td>\n      <td>0</td>\n    </tr>\n    <tr>\n      <th>...</th>\n      <td>...</td>\n      <td>...</td>\n      <td>...</td>\n      <td>...</td>\n      <td>...</td>\n      <td>...</td>\n    </tr>\n    <tr>\n      <th>208</th>\n      <td>1</td>\n      <td>0.312649</td>\n      <td>-0.083846</td>\n      <td>-0.426373</td>\n      <td>-0.692852</td>\n      <td>0</td>\n    </tr>\n    <tr>\n      <th>186</th>\n      <td>1</td>\n      <td>0.916995</td>\n      <td>1.187592</td>\n      <td>0.645461</td>\n      <td>-0.319720</td>\n      <td>1</td>\n    </tr>\n    <tr>\n      <th>202</th>\n      <td>1</td>\n      <td>0.221082</td>\n      <td>-0.287276</td>\n      <td>-0.712196</td>\n      <td>-1.190361</td>\n      <td>0</td>\n    </tr>\n    <tr>\n      <th>249</th>\n      <td>0</td>\n      <td>-0.255069</td>\n      <td>-1.762145</td>\n      <td>0.859828</td>\n      <td>0.924052</td>\n      <td>0</td>\n    </tr>\n    <tr>\n      <th>311</th>\n      <td>0</td>\n      <td>1.301579</td>\n      <td>-0.338134</td>\n      <td>1.717295</td>\n      <td>1.297183</td>\n      <td>1</td>\n    </tr>\n  </tbody>\n</table>\n<p>266 rows × 6 columns</p>\n</div>"
     },
     "metadata": {},
     "output_type": "display_data"
    },
    {
     "data": {
      "text/plain": "     species\n122        0\n287        2\n236        2\n167        1\n83         0\n..       ...\n208        1\n186        1\n202        1\n249        2\n311        2\n\n[266 rows x 1 columns]",
      "text/html": "<div>\n<style scoped>\n    .dataframe tbody tr th:only-of-type {\n        vertical-align: middle;\n    }\n\n    .dataframe tbody tr th {\n        vertical-align: top;\n    }\n\n    .dataframe thead th {\n        text-align: right;\n    }\n</style>\n<table border=\"1\" class=\"dataframe\">\n  <thead>\n    <tr style=\"text-align: right;\">\n      <th></th>\n      <th>species</th>\n    </tr>\n  </thead>\n  <tbody>\n    <tr>\n      <th>122</th>\n      <td>0</td>\n    </tr>\n    <tr>\n      <th>287</th>\n      <td>2</td>\n    </tr>\n    <tr>\n      <th>236</th>\n      <td>2</td>\n    </tr>\n    <tr>\n      <th>167</th>\n      <td>1</td>\n    </tr>\n    <tr>\n      <th>83</th>\n      <td>0</td>\n    </tr>\n    <tr>\n      <th>...</th>\n      <td>...</td>\n    </tr>\n    <tr>\n      <th>208</th>\n      <td>1</td>\n    </tr>\n    <tr>\n      <th>186</th>\n      <td>1</td>\n    </tr>\n    <tr>\n      <th>202</th>\n      <td>1</td>\n    </tr>\n    <tr>\n      <th>249</th>\n      <td>2</td>\n    </tr>\n    <tr>\n      <th>311</th>\n      <td>2</td>\n    </tr>\n  </tbody>\n</table>\n<p>266 rows × 1 columns</p>\n</div>"
     },
     "metadata": {},
     "output_type": "display_data"
    }
   ],
   "source": [
    "display(X_s_train)\n",
    "display(y_s_train)"
   ],
   "metadata": {
    "collapsed": false,
    "pycharm": {
     "name": "#%%\n"
    }
   }
  },
  {
   "cell_type": "code",
   "execution_count": 156,
   "outputs": [
    {
     "data": {
      "text/plain": "     island  bill_length_mm  bill_depth_mm  flipper_length_mm  body_mass_g  \\\n38        1        0.019633       1.289308          -0.354918     0.239977   \n108       0       -0.804474       1.797883          -0.712196    -0.381909   \n323       0       -0.090248      -0.999282           0.859828     0.550920   \n231       0        0.953622      -0.999282           1.431472     2.603144   \n27        1       -0.822788       0.323014          -0.926562    -1.128172   \n..      ...             ...            ...                ...          ...   \n192       1        1.118444       0.373872          -0.783651    -1.003795   \n68        2       -1.555328       0.170442          -0.783651    -0.630663   \n47        0       -0.364950       1.187592          -0.069095    -0.195343   \n58        0       -1.390507      -0.032989          -1.212385    -1.687870   \n304       0        0.276022      -1.355285           0.788372     0.675297   \n\n     sex  \n38     1  \n108    0  \n323    0  \n231    1  \n27     0  \n..   ...  \n192    0  \n68     0  \n47     1  \n58     0  \n304    0  \n\n[67 rows x 6 columns]",
      "text/html": "<div>\n<style scoped>\n    .dataframe tbody tr th:only-of-type {\n        vertical-align: middle;\n    }\n\n    .dataframe tbody tr th {\n        vertical-align: top;\n    }\n\n    .dataframe thead th {\n        text-align: right;\n    }\n</style>\n<table border=\"1\" class=\"dataframe\">\n  <thead>\n    <tr style=\"text-align: right;\">\n      <th></th>\n      <th>island</th>\n      <th>bill_length_mm</th>\n      <th>bill_depth_mm</th>\n      <th>flipper_length_mm</th>\n      <th>body_mass_g</th>\n      <th>sex</th>\n    </tr>\n  </thead>\n  <tbody>\n    <tr>\n      <th>38</th>\n      <td>1</td>\n      <td>0.019633</td>\n      <td>1.289308</td>\n      <td>-0.354918</td>\n      <td>0.239977</td>\n      <td>1</td>\n    </tr>\n    <tr>\n      <th>108</th>\n      <td>0</td>\n      <td>-0.804474</td>\n      <td>1.797883</td>\n      <td>-0.712196</td>\n      <td>-0.381909</td>\n      <td>0</td>\n    </tr>\n    <tr>\n      <th>323</th>\n      <td>0</td>\n      <td>-0.090248</td>\n      <td>-0.999282</td>\n      <td>0.859828</td>\n      <td>0.550920</td>\n      <td>0</td>\n    </tr>\n    <tr>\n      <th>231</th>\n      <td>0</td>\n      <td>0.953622</td>\n      <td>-0.999282</td>\n      <td>1.431472</td>\n      <td>2.603144</td>\n      <td>1</td>\n    </tr>\n    <tr>\n      <th>27</th>\n      <td>1</td>\n      <td>-0.822788</td>\n      <td>0.323014</td>\n      <td>-0.926562</td>\n      <td>-1.128172</td>\n      <td>0</td>\n    </tr>\n    <tr>\n      <th>...</th>\n      <td>...</td>\n      <td>...</td>\n      <td>...</td>\n      <td>...</td>\n      <td>...</td>\n      <td>...</td>\n    </tr>\n    <tr>\n      <th>192</th>\n      <td>1</td>\n      <td>1.118444</td>\n      <td>0.373872</td>\n      <td>-0.783651</td>\n      <td>-1.003795</td>\n      <td>0</td>\n    </tr>\n    <tr>\n      <th>68</th>\n      <td>2</td>\n      <td>-1.555328</td>\n      <td>0.170442</td>\n      <td>-0.783651</td>\n      <td>-0.630663</td>\n      <td>0</td>\n    </tr>\n    <tr>\n      <th>47</th>\n      <td>0</td>\n      <td>-0.364950</td>\n      <td>1.187592</td>\n      <td>-0.069095</td>\n      <td>-0.195343</td>\n      <td>1</td>\n    </tr>\n    <tr>\n      <th>58</th>\n      <td>0</td>\n      <td>-1.390507</td>\n      <td>-0.032989</td>\n      <td>-1.212385</td>\n      <td>-1.687870</td>\n      <td>0</td>\n    </tr>\n    <tr>\n      <th>304</th>\n      <td>0</td>\n      <td>0.276022</td>\n      <td>-1.355285</td>\n      <td>0.788372</td>\n      <td>0.675297</td>\n      <td>0</td>\n    </tr>\n  </tbody>\n</table>\n<p>67 rows × 6 columns</p>\n</div>"
     },
     "metadata": {},
     "output_type": "display_data"
    },
    {
     "data": {
      "text/plain": "     species\n38         0\n108        0\n323        2\n231        2\n27         0\n..       ...\n192        1\n68         0\n47         0\n58         0\n304        2\n\n[67 rows x 1 columns]",
      "text/html": "<div>\n<style scoped>\n    .dataframe tbody tr th:only-of-type {\n        vertical-align: middle;\n    }\n\n    .dataframe tbody tr th {\n        vertical-align: top;\n    }\n\n    .dataframe thead th {\n        text-align: right;\n    }\n</style>\n<table border=\"1\" class=\"dataframe\">\n  <thead>\n    <tr style=\"text-align: right;\">\n      <th></th>\n      <th>species</th>\n    </tr>\n  </thead>\n  <tbody>\n    <tr>\n      <th>38</th>\n      <td>0</td>\n    </tr>\n    <tr>\n      <th>108</th>\n      <td>0</td>\n    </tr>\n    <tr>\n      <th>323</th>\n      <td>2</td>\n    </tr>\n    <tr>\n      <th>231</th>\n      <td>2</td>\n    </tr>\n    <tr>\n      <th>27</th>\n      <td>0</td>\n    </tr>\n    <tr>\n      <th>...</th>\n      <td>...</td>\n    </tr>\n    <tr>\n      <th>192</th>\n      <td>1</td>\n    </tr>\n    <tr>\n      <th>68</th>\n      <td>0</td>\n    </tr>\n    <tr>\n      <th>47</th>\n      <td>0</td>\n    </tr>\n    <tr>\n      <th>58</th>\n      <td>0</td>\n    </tr>\n    <tr>\n      <th>304</th>\n      <td>2</td>\n    </tr>\n  </tbody>\n</table>\n<p>67 rows × 1 columns</p>\n</div>"
     },
     "metadata": {},
     "output_type": "display_data"
    }
   ],
   "source": [
    "display(X_s_test)\n",
    "display(y_s_test)"
   ],
   "metadata": {
    "collapsed": false,
    "pycharm": {
     "name": "#%%\n"
    }
   }
  },
  {
   "cell_type": "markdown",
   "source": [
    "## Do KNN with K = 5"
   ],
   "metadata": {
    "collapsed": false
   }
  },
  {
   "cell_type": "code",
   "execution_count": 157,
   "outputs": [
    {
     "name": "stderr",
     "output_type": "stream",
     "text": [
      "d:\\github\\introduction-to-data-mining\\venv\\lib\\site-packages\\sklearn\\neighbors\\_classification.py:198: DataConversionWarning: A column-vector y was passed when a 1d array was expected. Please change the shape of y to (n_samples,), for example using ravel().\n",
      "  return self._fit(X, y)\n"
     ]
    }
   ],
   "source": [
    "classifier_spi = KNeighborsClassifier(n_neighbors=5)\n",
    "classifier_spi.fit(X_s_train, y_s_train)\n",
    "y_s_prediction = classifier_spi.predict(X_s_test)"
   ],
   "metadata": {
    "collapsed": false,
    "pycharm": {
     "name": "#%%\n"
    }
   }
  },
  {
   "cell_type": "markdown",
   "source": [
    "## confusion_matrix & classification_report"
   ],
   "metadata": {
    "collapsed": false
   }
  },
  {
   "cell_type": "code",
   "execution_count": 158,
   "outputs": [
    {
     "name": "stdout",
     "output_type": "stream",
     "text": [
      "[[32  0  0]\n",
      " [ 0  9  0]\n",
      " [ 0  0 26]]\n",
      "              precision    recall  f1-score   support\n",
      "\n",
      "           0       1.00      1.00      1.00        32\n",
      "           1       1.00      1.00      1.00         9\n",
      "           2       1.00      1.00      1.00        26\n",
      "\n",
      "    accuracy                           1.00        67\n",
      "   macro avg       1.00      1.00      1.00        67\n",
      "weighted avg       1.00      1.00      1.00        67\n",
      "\n"
     ]
    }
   ],
   "source": [
    "print(confusion_matrix(y_s_test, y_s_prediction))\n",
    "print(classification_report(y_s_test, y_s_prediction))"
   ],
   "metadata": {
    "collapsed": false,
    "pycharm": {
     "name": "#%%\n"
    }
   }
  },
  {
   "cell_type": "markdown",
   "source": [
    "## for Island"
   ],
   "metadata": {
    "collapsed": false,
    "pycharm": {
     "name": "#%% md\n"
    }
   }
  },
  {
   "cell_type": "code",
   "execution_count": 159,
   "outputs": [],
   "source": [
    "X_i = dataset[['species','bill_length_mm', 'bill_depth_mm', 'flipper_length_mm', 'body_mass_g', 'sex']]\n",
    "y_i = dataset[['island']]\n",
    "X_i_train, X_i_test, y_i_train, y_i_test = train_test_split(X_i, y_i, test_size = 0.2)"
   ],
   "metadata": {
    "collapsed": false,
    "pycharm": {
     "name": "#%%\n"
    }
   }
  },
  {
   "cell_type": "code",
   "execution_count": 160,
   "outputs": [
    {
     "data": {
      "text/plain": "     species  bill_length_mm  bill_depth_mm  flipper_length_mm  body_mass_g  \\\n255        2        0.239395      -1.762145           0.645461     0.115600   \n41         0       -0.529772       0.933305          -1.355296    -0.972701   \n73         0       -0.346637       0.984162          -0.426373    -0.257532   \n150        1        1.594595       1.340165          -0.283462    -0.599569   \n1          0       -0.822788       0.119584          -1.069474    -0.506286   \n..       ...             ...            ...                ...          ...   \n249        2       -0.255069      -1.762145           0.859828     0.924052   \n167        1        0.825428       0.170442          -0.712196    -1.003795   \n185        1        1.741103       1.391023           0.288183     0.364354   \n234        2        1.136757      -1.457000           1.217106     1.856881   \n170        1        0.495785       0.373872          -0.426373    -1.128172   \n\n     sex  \n255    0  \n41     1  \n73     1  \n150    1  \n1      0  \n..   ...  \n249    0  \n167    1  \n185    1  \n234    1  \n170    0  \n\n[266 rows x 6 columns]",
      "text/html": "<div>\n<style scoped>\n    .dataframe tbody tr th:only-of-type {\n        vertical-align: middle;\n    }\n\n    .dataframe tbody tr th {\n        vertical-align: top;\n    }\n\n    .dataframe thead th {\n        text-align: right;\n    }\n</style>\n<table border=\"1\" class=\"dataframe\">\n  <thead>\n    <tr style=\"text-align: right;\">\n      <th></th>\n      <th>species</th>\n      <th>bill_length_mm</th>\n      <th>bill_depth_mm</th>\n      <th>flipper_length_mm</th>\n      <th>body_mass_g</th>\n      <th>sex</th>\n    </tr>\n  </thead>\n  <tbody>\n    <tr>\n      <th>255</th>\n      <td>2</td>\n      <td>0.239395</td>\n      <td>-1.762145</td>\n      <td>0.645461</td>\n      <td>0.115600</td>\n      <td>0</td>\n    </tr>\n    <tr>\n      <th>41</th>\n      <td>0</td>\n      <td>-0.529772</td>\n      <td>0.933305</td>\n      <td>-1.355296</td>\n      <td>-0.972701</td>\n      <td>1</td>\n    </tr>\n    <tr>\n      <th>73</th>\n      <td>0</td>\n      <td>-0.346637</td>\n      <td>0.984162</td>\n      <td>-0.426373</td>\n      <td>-0.257532</td>\n      <td>1</td>\n    </tr>\n    <tr>\n      <th>150</th>\n      <td>1</td>\n      <td>1.594595</td>\n      <td>1.340165</td>\n      <td>-0.283462</td>\n      <td>-0.599569</td>\n      <td>1</td>\n    </tr>\n    <tr>\n      <th>1</th>\n      <td>0</td>\n      <td>-0.822788</td>\n      <td>0.119584</td>\n      <td>-1.069474</td>\n      <td>-0.506286</td>\n      <td>0</td>\n    </tr>\n    <tr>\n      <th>...</th>\n      <td>...</td>\n      <td>...</td>\n      <td>...</td>\n      <td>...</td>\n      <td>...</td>\n      <td>...</td>\n    </tr>\n    <tr>\n      <th>249</th>\n      <td>2</td>\n      <td>-0.255069</td>\n      <td>-1.762145</td>\n      <td>0.859828</td>\n      <td>0.924052</td>\n      <td>0</td>\n    </tr>\n    <tr>\n      <th>167</th>\n      <td>1</td>\n      <td>0.825428</td>\n      <td>0.170442</td>\n      <td>-0.712196</td>\n      <td>-1.003795</td>\n      <td>1</td>\n    </tr>\n    <tr>\n      <th>185</th>\n      <td>1</td>\n      <td>1.741103</td>\n      <td>1.391023</td>\n      <td>0.288183</td>\n      <td>0.364354</td>\n      <td>1</td>\n    </tr>\n    <tr>\n      <th>234</th>\n      <td>2</td>\n      <td>1.136757</td>\n      <td>-1.457000</td>\n      <td>1.217106</td>\n      <td>1.856881</td>\n      <td>1</td>\n    </tr>\n    <tr>\n      <th>170</th>\n      <td>1</td>\n      <td>0.495785</td>\n      <td>0.373872</td>\n      <td>-0.426373</td>\n      <td>-1.128172</td>\n      <td>0</td>\n    </tr>\n  </tbody>\n</table>\n<p>266 rows × 6 columns</p>\n</div>"
     },
     "metadata": {},
     "output_type": "display_data"
    },
    {
     "data": {
      "text/plain": "     island\n255       0\n41        1\n73        2\n150       1\n1         2\n..      ...\n249       0\n167       1\n185       1\n234       0\n170       1\n\n[266 rows x 1 columns]",
      "text/html": "<div>\n<style scoped>\n    .dataframe tbody tr th:only-of-type {\n        vertical-align: middle;\n    }\n\n    .dataframe tbody tr th {\n        vertical-align: top;\n    }\n\n    .dataframe thead th {\n        text-align: right;\n    }\n</style>\n<table border=\"1\" class=\"dataframe\">\n  <thead>\n    <tr style=\"text-align: right;\">\n      <th></th>\n      <th>island</th>\n    </tr>\n  </thead>\n  <tbody>\n    <tr>\n      <th>255</th>\n      <td>0</td>\n    </tr>\n    <tr>\n      <th>41</th>\n      <td>1</td>\n    </tr>\n    <tr>\n      <th>73</th>\n      <td>2</td>\n    </tr>\n    <tr>\n      <th>150</th>\n      <td>1</td>\n    </tr>\n    <tr>\n      <th>1</th>\n      <td>2</td>\n    </tr>\n    <tr>\n      <th>...</th>\n      <td>...</td>\n    </tr>\n    <tr>\n      <th>249</th>\n      <td>0</td>\n    </tr>\n    <tr>\n      <th>167</th>\n      <td>1</td>\n    </tr>\n    <tr>\n      <th>185</th>\n      <td>1</td>\n    </tr>\n    <tr>\n      <th>234</th>\n      <td>0</td>\n    </tr>\n    <tr>\n      <th>170</th>\n      <td>1</td>\n    </tr>\n  </tbody>\n</table>\n<p>266 rows × 1 columns</p>\n</div>"
     },
     "metadata": {},
     "output_type": "display_data"
    }
   ],
   "source": [
    "display(X_i_train)\n",
    "display(y_i_train)"
   ],
   "metadata": {
    "collapsed": false,
    "pycharm": {
     "name": "#%%\n"
    }
   }
  },
  {
   "cell_type": "code",
   "execution_count": 161,
   "outputs": [
    {
     "data": {
      "text/plain": "     species  bill_length_mm  bill_depth_mm  flipper_length_mm  body_mass_g  \\\n244        2       -0.218442      -1.507858           0.574005     0.613109   \n164        1        0.440844       0.729875          -0.783651    -0.941606   \n328        2        0.587352      -1.762145           0.931283     0.892957   \n123        0        0.019633       0.424729           0.645461    -0.257532   \n125        0       -0.163502       1.035020          -0.283462    -0.879418   \n..       ...             ...            ...                ...          ...   \n306        2        0.092887      -1.253570           0.931283     0.799674   \n280        2       -0.090248      -1.507858           1.360017     0.613109   \n13         0       -1.756777       0.628159          -1.212385    -1.097078   \n66         0       -0.804474       0.017869          -0.354918    -0.817229   \n251        2        0.001320      -1.813003           0.502550     0.177788   \n\n     sex  \n244    0  \n164    0  \n328    0  \n123    1  \n125    1  \n..   ...  \n306    0  \n280    0  \n13     0  \n66     0  \n251    0  \n\n[67 rows x 6 columns]",
      "text/html": "<div>\n<style scoped>\n    .dataframe tbody tr th:only-of-type {\n        vertical-align: middle;\n    }\n\n    .dataframe tbody tr th {\n        vertical-align: top;\n    }\n\n    .dataframe thead th {\n        text-align: right;\n    }\n</style>\n<table border=\"1\" class=\"dataframe\">\n  <thead>\n    <tr style=\"text-align: right;\">\n      <th></th>\n      <th>species</th>\n      <th>bill_length_mm</th>\n      <th>bill_depth_mm</th>\n      <th>flipper_length_mm</th>\n      <th>body_mass_g</th>\n      <th>sex</th>\n    </tr>\n  </thead>\n  <tbody>\n    <tr>\n      <th>244</th>\n      <td>2</td>\n      <td>-0.218442</td>\n      <td>-1.507858</td>\n      <td>0.574005</td>\n      <td>0.613109</td>\n      <td>0</td>\n    </tr>\n    <tr>\n      <th>164</th>\n      <td>1</td>\n      <td>0.440844</td>\n      <td>0.729875</td>\n      <td>-0.783651</td>\n      <td>-0.941606</td>\n      <td>0</td>\n    </tr>\n    <tr>\n      <th>328</th>\n      <td>2</td>\n      <td>0.587352</td>\n      <td>-1.762145</td>\n      <td>0.931283</td>\n      <td>0.892957</td>\n      <td>0</td>\n    </tr>\n    <tr>\n      <th>123</th>\n      <td>0</td>\n      <td>0.019633</td>\n      <td>0.424729</td>\n      <td>0.645461</td>\n      <td>-0.257532</td>\n      <td>1</td>\n    </tr>\n    <tr>\n      <th>125</th>\n      <td>0</td>\n      <td>-0.163502</td>\n      <td>1.035020</td>\n      <td>-0.283462</td>\n      <td>-0.879418</td>\n      <td>1</td>\n    </tr>\n    <tr>\n      <th>...</th>\n      <td>...</td>\n      <td>...</td>\n      <td>...</td>\n      <td>...</td>\n      <td>...</td>\n      <td>...</td>\n    </tr>\n    <tr>\n      <th>306</th>\n      <td>2</td>\n      <td>0.092887</td>\n      <td>-1.253570</td>\n      <td>0.931283</td>\n      <td>0.799674</td>\n      <td>0</td>\n    </tr>\n    <tr>\n      <th>280</th>\n      <td>2</td>\n      <td>-0.090248</td>\n      <td>-1.507858</td>\n      <td>1.360017</td>\n      <td>0.613109</td>\n      <td>0</td>\n    </tr>\n    <tr>\n      <th>13</th>\n      <td>0</td>\n      <td>-1.756777</td>\n      <td>0.628159</td>\n      <td>-1.212385</td>\n      <td>-1.097078</td>\n      <td>0</td>\n    </tr>\n    <tr>\n      <th>66</th>\n      <td>0</td>\n      <td>-0.804474</td>\n      <td>0.017869</td>\n      <td>-0.354918</td>\n      <td>-0.817229</td>\n      <td>0</td>\n    </tr>\n    <tr>\n      <th>251</th>\n      <td>2</td>\n      <td>0.001320</td>\n      <td>-1.813003</td>\n      <td>0.502550</td>\n      <td>0.177788</td>\n      <td>0</td>\n    </tr>\n  </tbody>\n</table>\n<p>67 rows × 6 columns</p>\n</div>"
     },
     "metadata": {},
     "output_type": "display_data"
    },
    {
     "data": {
      "text/plain": "     island\n244       0\n164       1\n328       0\n123       2\n125       2\n..      ...\n306       0\n280       0\n13        2\n66        2\n251       0\n\n[67 rows x 1 columns]",
      "text/html": "<div>\n<style scoped>\n    .dataframe tbody tr th:only-of-type {\n        vertical-align: middle;\n    }\n\n    .dataframe tbody tr th {\n        vertical-align: top;\n    }\n\n    .dataframe thead th {\n        text-align: right;\n    }\n</style>\n<table border=\"1\" class=\"dataframe\">\n  <thead>\n    <tr style=\"text-align: right;\">\n      <th></th>\n      <th>island</th>\n    </tr>\n  </thead>\n  <tbody>\n    <tr>\n      <th>244</th>\n      <td>0</td>\n    </tr>\n    <tr>\n      <th>164</th>\n      <td>1</td>\n    </tr>\n    <tr>\n      <th>328</th>\n      <td>0</td>\n    </tr>\n    <tr>\n      <th>123</th>\n      <td>2</td>\n    </tr>\n    <tr>\n      <th>125</th>\n      <td>2</td>\n    </tr>\n    <tr>\n      <th>...</th>\n      <td>...</td>\n    </tr>\n    <tr>\n      <th>306</th>\n      <td>0</td>\n    </tr>\n    <tr>\n      <th>280</th>\n      <td>0</td>\n    </tr>\n    <tr>\n      <th>13</th>\n      <td>2</td>\n    </tr>\n    <tr>\n      <th>66</th>\n      <td>2</td>\n    </tr>\n    <tr>\n      <th>251</th>\n      <td>0</td>\n    </tr>\n  </tbody>\n</table>\n<p>67 rows × 1 columns</p>\n</div>"
     },
     "metadata": {},
     "output_type": "display_data"
    }
   ],
   "source": [
    "display(X_i_test)\n",
    "display(y_i_test)"
   ],
   "metadata": {
    "collapsed": false,
    "pycharm": {
     "name": "#%%\n"
    }
   }
  },
  {
   "cell_type": "markdown",
   "source": [
    "## Do KNN with K = 5"
   ],
   "metadata": {
    "collapsed": false
   }
  },
  {
   "cell_type": "code",
   "execution_count": 162,
   "outputs": [
    {
     "name": "stderr",
     "output_type": "stream",
     "text": [
      "d:\\github\\introduction-to-data-mining\\venv\\lib\\site-packages\\sklearn\\neighbors\\_classification.py:198: DataConversionWarning: A column-vector y was passed when a 1d array was expected. Please change the shape of y to (n_samples,), for example using ravel().\n",
      "  return self._fit(X, y)\n"
     ]
    }
   ],
   "source": [
    "classifier_isl = KNeighborsClassifier(n_neighbors=5)\n",
    "classifier_isl.fit(X_i_train, y_i_train)\n",
    "y_i_prediction = classifier_isl.predict(X_i_test)"
   ],
   "metadata": {
    "collapsed": false,
    "pycharm": {
     "name": "#%%\n"
    }
   }
  },
  {
   "cell_type": "markdown",
   "source": [
    "## confusion_matrix & classification_report"
   ],
   "metadata": {
    "collapsed": false
   }
  },
  {
   "cell_type": "code",
   "execution_count": 163,
   "outputs": [
    {
     "name": "stdout",
     "output_type": "stream",
     "text": [
      "[[23  9  1]\n",
      " [ 3 19  0]\n",
      " [ 3  8  1]]\n",
      "              precision    recall  f1-score   support\n",
      "\n",
      "           0       0.79      0.70      0.74        33\n",
      "           1       0.53      0.86      0.66        22\n",
      "           2       0.50      0.08      0.14        12\n",
      "\n",
      "    accuracy                           0.64        67\n",
      "   macro avg       0.61      0.55      0.51        67\n",
      "weighted avg       0.65      0.64      0.61        67\n",
      "\n"
     ]
    }
   ],
   "source": [
    "print(confusion_matrix(y_i_test, y_i_prediction))\n",
    "print(classification_report(y_i_test, y_i_prediction))"
   ],
   "metadata": {
    "collapsed": false,
    "pycharm": {
     "name": "#%%\n"
    }
   }
  },
  {
   "cell_type": "code",
   "execution_count": null,
   "outputs": [],
   "source": [],
   "metadata": {
    "collapsed": false,
    "pycharm": {
     "name": "#%%\n"
    }
   }
  }
 ],
 "metadata": {
  "kernelspec": {
   "display_name": "Python 3",
   "language": "python",
   "name": "python3"
  },
  "language_info": {
   "codemirror_mode": {
    "name": "ipython",
    "version": 2
   },
   "file_extension": ".py",
   "mimetype": "text/x-python",
   "name": "python",
   "nbconvert_exporter": "python",
   "pygments_lexer": "ipython2",
   "version": "2.7.6"
  }
 },
 "nbformat": 4,
 "nbformat_minor": 0
}