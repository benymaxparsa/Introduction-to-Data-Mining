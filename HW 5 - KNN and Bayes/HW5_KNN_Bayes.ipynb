{
 "cells": [
  {
   "cell_type": "markdown",
   "metadata": {
    "collapsed": true,
    "pycharm": {
     "name": "#%% md\n"
    }
   },
   "source": [
    "# 5th homework of data mining\n",
    "Parsa KamaliPour - 97149081"
   ]
  },
  {
   "cell_type": "code",
   "execution_count": 87,
   "outputs": [],
   "source": [
    "from copy import deepcopy\n",
    "from sklearn.preprocessing import StandardScaler, LabelEncoder\n",
    "import pandas as pd\n",
    "import numpy as np\n",
    "import matplotlib.pyplot as plt\n",
    "from IPython.core.display_functions import display\n",
    "from sklearn.preprocessing import OneHotEncoder"
   ],
   "metadata": {
    "collapsed": false,
    "pycharm": {
     "name": "#%%\n"
    }
   }
  },
  {
   "cell_type": "code",
   "execution_count": 88,
   "outputs": [
    {
     "data": {
      "text/plain": "    species     island  bill_length_mm  bill_depth_mm  flipper_length_mm  \\\n0    Adelie  Torgersen            39.1           18.7              181.0   \n1    Adelie  Torgersen            39.5           17.4              186.0   \n2    Adelie  Torgersen            40.3           18.0              195.0   \n3    Adelie  Torgersen             NaN            NaN                NaN   \n4    Adelie  Torgersen            36.7           19.3              193.0   \n..      ...        ...             ...            ...                ...   \n339  Gentoo     Biscoe             NaN            NaN                NaN   \n340  Gentoo     Biscoe            46.8           14.3              215.0   \n341  Gentoo     Biscoe            50.4           15.7              222.0   \n342  Gentoo     Biscoe            45.2           14.8              212.0   \n343  Gentoo     Biscoe            49.9           16.1              213.0   \n\n     body_mass_g     sex  \n0         3750.0    MALE  \n1         3800.0  FEMALE  \n2         3250.0  FEMALE  \n3            NaN     NaN  \n4         3450.0  FEMALE  \n..           ...     ...  \n339          NaN     NaN  \n340       4850.0  FEMALE  \n341       5750.0    MALE  \n342       5200.0  FEMALE  \n343       5400.0    MALE  \n\n[344 rows x 7 columns]",
      "text/html": "<div>\n<style scoped>\n    .dataframe tbody tr th:only-of-type {\n        vertical-align: middle;\n    }\n\n    .dataframe tbody tr th {\n        vertical-align: top;\n    }\n\n    .dataframe thead th {\n        text-align: right;\n    }\n</style>\n<table border=\"1\" class=\"dataframe\">\n  <thead>\n    <tr style=\"text-align: right;\">\n      <th></th>\n      <th>species</th>\n      <th>island</th>\n      <th>bill_length_mm</th>\n      <th>bill_depth_mm</th>\n      <th>flipper_length_mm</th>\n      <th>body_mass_g</th>\n      <th>sex</th>\n    </tr>\n  </thead>\n  <tbody>\n    <tr>\n      <th>0</th>\n      <td>Adelie</td>\n      <td>Torgersen</td>\n      <td>39.1</td>\n      <td>18.7</td>\n      <td>181.0</td>\n      <td>3750.0</td>\n      <td>MALE</td>\n    </tr>\n    <tr>\n      <th>1</th>\n      <td>Adelie</td>\n      <td>Torgersen</td>\n      <td>39.5</td>\n      <td>17.4</td>\n      <td>186.0</td>\n      <td>3800.0</td>\n      <td>FEMALE</td>\n    </tr>\n    <tr>\n      <th>2</th>\n      <td>Adelie</td>\n      <td>Torgersen</td>\n      <td>40.3</td>\n      <td>18.0</td>\n      <td>195.0</td>\n      <td>3250.0</td>\n      <td>FEMALE</td>\n    </tr>\n    <tr>\n      <th>3</th>\n      <td>Adelie</td>\n      <td>Torgersen</td>\n      <td>NaN</td>\n      <td>NaN</td>\n      <td>NaN</td>\n      <td>NaN</td>\n      <td>NaN</td>\n    </tr>\n    <tr>\n      <th>4</th>\n      <td>Adelie</td>\n      <td>Torgersen</td>\n      <td>36.7</td>\n      <td>19.3</td>\n      <td>193.0</td>\n      <td>3450.0</td>\n      <td>FEMALE</td>\n    </tr>\n    <tr>\n      <th>...</th>\n      <td>...</td>\n      <td>...</td>\n      <td>...</td>\n      <td>...</td>\n      <td>...</td>\n      <td>...</td>\n      <td>...</td>\n    </tr>\n    <tr>\n      <th>339</th>\n      <td>Gentoo</td>\n      <td>Biscoe</td>\n      <td>NaN</td>\n      <td>NaN</td>\n      <td>NaN</td>\n      <td>NaN</td>\n      <td>NaN</td>\n    </tr>\n    <tr>\n      <th>340</th>\n      <td>Gentoo</td>\n      <td>Biscoe</td>\n      <td>46.8</td>\n      <td>14.3</td>\n      <td>215.0</td>\n      <td>4850.0</td>\n      <td>FEMALE</td>\n    </tr>\n    <tr>\n      <th>341</th>\n      <td>Gentoo</td>\n      <td>Biscoe</td>\n      <td>50.4</td>\n      <td>15.7</td>\n      <td>222.0</td>\n      <td>5750.0</td>\n      <td>MALE</td>\n    </tr>\n    <tr>\n      <th>342</th>\n      <td>Gentoo</td>\n      <td>Biscoe</td>\n      <td>45.2</td>\n      <td>14.8</td>\n      <td>212.0</td>\n      <td>5200.0</td>\n      <td>FEMALE</td>\n    </tr>\n    <tr>\n      <th>343</th>\n      <td>Gentoo</td>\n      <td>Biscoe</td>\n      <td>49.9</td>\n      <td>16.1</td>\n      <td>213.0</td>\n      <td>5400.0</td>\n      <td>MALE</td>\n    </tr>\n  </tbody>\n</table>\n<p>344 rows × 7 columns</p>\n</div>"
     },
     "metadata": {},
     "output_type": "display_data"
    }
   ],
   "source": [
    "dataset = pd.read_csv(\"penguins.csv\")\n",
    "display(dataset)"
   ],
   "metadata": {
    "collapsed": false,
    "pycharm": {
     "name": "#%%\n"
    }
   }
  },
  {
   "cell_type": "markdown",
   "source": [
    "## Drop NaN"
   ],
   "metadata": {
    "collapsed": false,
    "pycharm": {
     "name": "#%% md\n"
    }
   }
  },
  {
   "cell_type": "code",
   "execution_count": 89,
   "outputs": [
    {
     "data": {
      "text/plain": "    species     island  bill_length_mm  bill_depth_mm  flipper_length_mm  \\\n0    Adelie  Torgersen            39.1           18.7              181.0   \n1    Adelie  Torgersen            39.5           17.4              186.0   \n2    Adelie  Torgersen            40.3           18.0              195.0   \n4    Adelie  Torgersen            36.7           19.3              193.0   \n5    Adelie  Torgersen            39.3           20.6              190.0   \n..      ...        ...             ...            ...                ...   \n338  Gentoo     Biscoe            47.2           13.7              214.0   \n340  Gentoo     Biscoe            46.8           14.3              215.0   \n341  Gentoo     Biscoe            50.4           15.7              222.0   \n342  Gentoo     Biscoe            45.2           14.8              212.0   \n343  Gentoo     Biscoe            49.9           16.1              213.0   \n\n     body_mass_g     sex  \n0         3750.0    MALE  \n1         3800.0  FEMALE  \n2         3250.0  FEMALE  \n4         3450.0  FEMALE  \n5         3650.0    MALE  \n..           ...     ...  \n338       4925.0  FEMALE  \n340       4850.0  FEMALE  \n341       5750.0    MALE  \n342       5200.0  FEMALE  \n343       5400.0    MALE  \n\n[333 rows x 7 columns]",
      "text/html": "<div>\n<style scoped>\n    .dataframe tbody tr th:only-of-type {\n        vertical-align: middle;\n    }\n\n    .dataframe tbody tr th {\n        vertical-align: top;\n    }\n\n    .dataframe thead th {\n        text-align: right;\n    }\n</style>\n<table border=\"1\" class=\"dataframe\">\n  <thead>\n    <tr style=\"text-align: right;\">\n      <th></th>\n      <th>species</th>\n      <th>island</th>\n      <th>bill_length_mm</th>\n      <th>bill_depth_mm</th>\n      <th>flipper_length_mm</th>\n      <th>body_mass_g</th>\n      <th>sex</th>\n    </tr>\n  </thead>\n  <tbody>\n    <tr>\n      <th>0</th>\n      <td>Adelie</td>\n      <td>Torgersen</td>\n      <td>39.1</td>\n      <td>18.7</td>\n      <td>181.0</td>\n      <td>3750.0</td>\n      <td>MALE</td>\n    </tr>\n    <tr>\n      <th>1</th>\n      <td>Adelie</td>\n      <td>Torgersen</td>\n      <td>39.5</td>\n      <td>17.4</td>\n      <td>186.0</td>\n      <td>3800.0</td>\n      <td>FEMALE</td>\n    </tr>\n    <tr>\n      <th>2</th>\n      <td>Adelie</td>\n      <td>Torgersen</td>\n      <td>40.3</td>\n      <td>18.0</td>\n      <td>195.0</td>\n      <td>3250.0</td>\n      <td>FEMALE</td>\n    </tr>\n    <tr>\n      <th>4</th>\n      <td>Adelie</td>\n      <td>Torgersen</td>\n      <td>36.7</td>\n      <td>19.3</td>\n      <td>193.0</td>\n      <td>3450.0</td>\n      <td>FEMALE</td>\n    </tr>\n    <tr>\n      <th>5</th>\n      <td>Adelie</td>\n      <td>Torgersen</td>\n      <td>39.3</td>\n      <td>20.6</td>\n      <td>190.0</td>\n      <td>3650.0</td>\n      <td>MALE</td>\n    </tr>\n    <tr>\n      <th>...</th>\n      <td>...</td>\n      <td>...</td>\n      <td>...</td>\n      <td>...</td>\n      <td>...</td>\n      <td>...</td>\n      <td>...</td>\n    </tr>\n    <tr>\n      <th>338</th>\n      <td>Gentoo</td>\n      <td>Biscoe</td>\n      <td>47.2</td>\n      <td>13.7</td>\n      <td>214.0</td>\n      <td>4925.0</td>\n      <td>FEMALE</td>\n    </tr>\n    <tr>\n      <th>340</th>\n      <td>Gentoo</td>\n      <td>Biscoe</td>\n      <td>46.8</td>\n      <td>14.3</td>\n      <td>215.0</td>\n      <td>4850.0</td>\n      <td>FEMALE</td>\n    </tr>\n    <tr>\n      <th>341</th>\n      <td>Gentoo</td>\n      <td>Biscoe</td>\n      <td>50.4</td>\n      <td>15.7</td>\n      <td>222.0</td>\n      <td>5750.0</td>\n      <td>MALE</td>\n    </tr>\n    <tr>\n      <th>342</th>\n      <td>Gentoo</td>\n      <td>Biscoe</td>\n      <td>45.2</td>\n      <td>14.8</td>\n      <td>212.0</td>\n      <td>5200.0</td>\n      <td>FEMALE</td>\n    </tr>\n    <tr>\n      <th>343</th>\n      <td>Gentoo</td>\n      <td>Biscoe</td>\n      <td>49.9</td>\n      <td>16.1</td>\n      <td>213.0</td>\n      <td>5400.0</td>\n      <td>MALE</td>\n    </tr>\n  </tbody>\n</table>\n<p>333 rows × 7 columns</p>\n</div>"
     },
     "metadata": {},
     "output_type": "display_data"
    }
   ],
   "source": [
    "data_back = deepcopy(dataset)\n",
    "dataset.dropna(\n",
    "    subset=[\n",
    "        'species', 'island', 'bill_length_mm', 'bill_depth_mm',\n",
    "        'flipper_length_mm', 'body_mass_g', 'sex'\n",
    "    ],\n",
    "    inplace=True\n",
    ")\n",
    "display(dataset)"
   ],
   "metadata": {
    "collapsed": false,
    "pycharm": {
     "name": "#%%\n"
    }
   }
  },
  {
   "cell_type": "markdown",
   "source": [
    "## Normalize features"
   ],
   "metadata": {
    "collapsed": false,
    "pycharm": {
     "name": "#%% md\n"
    }
   }
  },
  {
   "cell_type": "code",
   "execution_count": 90,
   "outputs": [
    {
     "data": {
      "text/plain": "    species     island  bill_length_mm  bill_depth_mm  flipper_length_mm  \\\n0    Adelie  Torgersen       -0.896042       0.780732          -1.426752   \n1    Adelie  Torgersen       -0.822788       0.119584          -1.069474   \n2    Adelie  Torgersen       -0.676280       0.424729          -0.426373   \n4    Adelie  Torgersen       -1.335566       1.085877          -0.569284   \n5    Adelie  Torgersen       -0.859415       1.747026          -0.783651   \n..      ...        ...             ...            ...                ...   \n338  Gentoo     Biscoe        0.587352      -1.762145           0.931283   \n340  Gentoo     Biscoe        0.514098      -1.457000           1.002739   \n341  Gentoo     Biscoe        1.173384      -0.744994           1.502928   \n342  Gentoo     Biscoe        0.221082      -1.202712           0.788372   \n343  Gentoo     Biscoe        1.081817      -0.541564           0.859828   \n\n     body_mass_g     sex  \n0      -0.568475    MALE  \n1      -0.506286  FEMALE  \n2      -1.190361  FEMALE  \n4      -0.941606  FEMALE  \n5      -0.692852    MALE  \n..           ...     ...  \n338     0.892957  FEMALE  \n340     0.799674  FEMALE  \n341     1.919069    MALE  \n342     1.234995  FEMALE  \n343     1.483749    MALE  \n\n[333 rows x 7 columns]",
      "text/html": "<div>\n<style scoped>\n    .dataframe tbody tr th:only-of-type {\n        vertical-align: middle;\n    }\n\n    .dataframe tbody tr th {\n        vertical-align: top;\n    }\n\n    .dataframe thead th {\n        text-align: right;\n    }\n</style>\n<table border=\"1\" class=\"dataframe\">\n  <thead>\n    <tr style=\"text-align: right;\">\n      <th></th>\n      <th>species</th>\n      <th>island</th>\n      <th>bill_length_mm</th>\n      <th>bill_depth_mm</th>\n      <th>flipper_length_mm</th>\n      <th>body_mass_g</th>\n      <th>sex</th>\n    </tr>\n  </thead>\n  <tbody>\n    <tr>\n      <th>0</th>\n      <td>Adelie</td>\n      <td>Torgersen</td>\n      <td>-0.896042</td>\n      <td>0.780732</td>\n      <td>-1.426752</td>\n      <td>-0.568475</td>\n      <td>MALE</td>\n    </tr>\n    <tr>\n      <th>1</th>\n      <td>Adelie</td>\n      <td>Torgersen</td>\n      <td>-0.822788</td>\n      <td>0.119584</td>\n      <td>-1.069474</td>\n      <td>-0.506286</td>\n      <td>FEMALE</td>\n    </tr>\n    <tr>\n      <th>2</th>\n      <td>Adelie</td>\n      <td>Torgersen</td>\n      <td>-0.676280</td>\n      <td>0.424729</td>\n      <td>-0.426373</td>\n      <td>-1.190361</td>\n      <td>FEMALE</td>\n    </tr>\n    <tr>\n      <th>4</th>\n      <td>Adelie</td>\n      <td>Torgersen</td>\n      <td>-1.335566</td>\n      <td>1.085877</td>\n      <td>-0.569284</td>\n      <td>-0.941606</td>\n      <td>FEMALE</td>\n    </tr>\n    <tr>\n      <th>5</th>\n      <td>Adelie</td>\n      <td>Torgersen</td>\n      <td>-0.859415</td>\n      <td>1.747026</td>\n      <td>-0.783651</td>\n      <td>-0.692852</td>\n      <td>MALE</td>\n    </tr>\n    <tr>\n      <th>...</th>\n      <td>...</td>\n      <td>...</td>\n      <td>...</td>\n      <td>...</td>\n      <td>...</td>\n      <td>...</td>\n      <td>...</td>\n    </tr>\n    <tr>\n      <th>338</th>\n      <td>Gentoo</td>\n      <td>Biscoe</td>\n      <td>0.587352</td>\n      <td>-1.762145</td>\n      <td>0.931283</td>\n      <td>0.892957</td>\n      <td>FEMALE</td>\n    </tr>\n    <tr>\n      <th>340</th>\n      <td>Gentoo</td>\n      <td>Biscoe</td>\n      <td>0.514098</td>\n      <td>-1.457000</td>\n      <td>1.002739</td>\n      <td>0.799674</td>\n      <td>FEMALE</td>\n    </tr>\n    <tr>\n      <th>341</th>\n      <td>Gentoo</td>\n      <td>Biscoe</td>\n      <td>1.173384</td>\n      <td>-0.744994</td>\n      <td>1.502928</td>\n      <td>1.919069</td>\n      <td>MALE</td>\n    </tr>\n    <tr>\n      <th>342</th>\n      <td>Gentoo</td>\n      <td>Biscoe</td>\n      <td>0.221082</td>\n      <td>-1.202712</td>\n      <td>0.788372</td>\n      <td>1.234995</td>\n      <td>FEMALE</td>\n    </tr>\n    <tr>\n      <th>343</th>\n      <td>Gentoo</td>\n      <td>Biscoe</td>\n      <td>1.081817</td>\n      <td>-0.541564</td>\n      <td>0.859828</td>\n      <td>1.483749</td>\n      <td>MALE</td>\n    </tr>\n  </tbody>\n</table>\n<p>333 rows × 7 columns</p>\n</div>"
     },
     "metadata": {},
     "output_type": "display_data"
    }
   ],
   "source": [
    "ss = StandardScaler()\n",
    "dataset.iloc[:, 2:-1] = ss.fit_transform(dataset.iloc[:, 2:-1])\n",
    "display(dataset)"
   ],
   "metadata": {
    "collapsed": false,
    "pycharm": {
     "name": "#%%\n"
    }
   }
  },
  {
   "cell_type": "code",
   "execution_count": 91,
   "outputs": [
    {
     "data": {
      "text/plain": "    species     island  bill_length_mm  bill_depth_mm  flipper_length_mm  \\\n0    Adelie  Torgersen       -0.896042       0.780732          -1.426752   \n1    Adelie  Torgersen       -0.822788       0.119584          -1.069474   \n2    Adelie  Torgersen       -0.676280       0.424729          -0.426373   \n3    Adelie  Torgersen       -1.335566       1.085877          -0.569284   \n4    Adelie  Torgersen       -0.859415       1.747026          -0.783651   \n..      ...        ...             ...            ...                ...   \n328  Gentoo     Biscoe        0.587352      -1.762145           0.931283   \n329  Gentoo     Biscoe        0.514098      -1.457000           1.002739   \n330  Gentoo     Biscoe        1.173384      -0.744994           1.502928   \n331  Gentoo     Biscoe        0.221082      -1.202712           0.788372   \n332  Gentoo     Biscoe        1.081817      -0.541564           0.859828   \n\n     body_mass_g     sex  \n0      -0.568475    MALE  \n1      -0.506286  FEMALE  \n2      -1.190361  FEMALE  \n3      -0.941606  FEMALE  \n4      -0.692852    MALE  \n..           ...     ...  \n328     0.892957  FEMALE  \n329     0.799674  FEMALE  \n330     1.919069    MALE  \n331     1.234995  FEMALE  \n332     1.483749    MALE  \n\n[333 rows x 7 columns]",
      "text/html": "<div>\n<style scoped>\n    .dataframe tbody tr th:only-of-type {\n        vertical-align: middle;\n    }\n\n    .dataframe tbody tr th {\n        vertical-align: top;\n    }\n\n    .dataframe thead th {\n        text-align: right;\n    }\n</style>\n<table border=\"1\" class=\"dataframe\">\n  <thead>\n    <tr style=\"text-align: right;\">\n      <th></th>\n      <th>species</th>\n      <th>island</th>\n      <th>bill_length_mm</th>\n      <th>bill_depth_mm</th>\n      <th>flipper_length_mm</th>\n      <th>body_mass_g</th>\n      <th>sex</th>\n    </tr>\n  </thead>\n  <tbody>\n    <tr>\n      <th>0</th>\n      <td>Adelie</td>\n      <td>Torgersen</td>\n      <td>-0.896042</td>\n      <td>0.780732</td>\n      <td>-1.426752</td>\n      <td>-0.568475</td>\n      <td>MALE</td>\n    </tr>\n    <tr>\n      <th>1</th>\n      <td>Adelie</td>\n      <td>Torgersen</td>\n      <td>-0.822788</td>\n      <td>0.119584</td>\n      <td>-1.069474</td>\n      <td>-0.506286</td>\n      <td>FEMALE</td>\n    </tr>\n    <tr>\n      <th>2</th>\n      <td>Adelie</td>\n      <td>Torgersen</td>\n      <td>-0.676280</td>\n      <td>0.424729</td>\n      <td>-0.426373</td>\n      <td>-1.190361</td>\n      <td>FEMALE</td>\n    </tr>\n    <tr>\n      <th>3</th>\n      <td>Adelie</td>\n      <td>Torgersen</td>\n      <td>-1.335566</td>\n      <td>1.085877</td>\n      <td>-0.569284</td>\n      <td>-0.941606</td>\n      <td>FEMALE</td>\n    </tr>\n    <tr>\n      <th>4</th>\n      <td>Adelie</td>\n      <td>Torgersen</td>\n      <td>-0.859415</td>\n      <td>1.747026</td>\n      <td>-0.783651</td>\n      <td>-0.692852</td>\n      <td>MALE</td>\n    </tr>\n    <tr>\n      <th>...</th>\n      <td>...</td>\n      <td>...</td>\n      <td>...</td>\n      <td>...</td>\n      <td>...</td>\n      <td>...</td>\n      <td>...</td>\n    </tr>\n    <tr>\n      <th>328</th>\n      <td>Gentoo</td>\n      <td>Biscoe</td>\n      <td>0.587352</td>\n      <td>-1.762145</td>\n      <td>0.931283</td>\n      <td>0.892957</td>\n      <td>FEMALE</td>\n    </tr>\n    <tr>\n      <th>329</th>\n      <td>Gentoo</td>\n      <td>Biscoe</td>\n      <td>0.514098</td>\n      <td>-1.457000</td>\n      <td>1.002739</td>\n      <td>0.799674</td>\n      <td>FEMALE</td>\n    </tr>\n    <tr>\n      <th>330</th>\n      <td>Gentoo</td>\n      <td>Biscoe</td>\n      <td>1.173384</td>\n      <td>-0.744994</td>\n      <td>1.502928</td>\n      <td>1.919069</td>\n      <td>MALE</td>\n    </tr>\n    <tr>\n      <th>331</th>\n      <td>Gentoo</td>\n      <td>Biscoe</td>\n      <td>0.221082</td>\n      <td>-1.202712</td>\n      <td>0.788372</td>\n      <td>1.234995</td>\n      <td>FEMALE</td>\n    </tr>\n    <tr>\n      <th>332</th>\n      <td>Gentoo</td>\n      <td>Biscoe</td>\n      <td>1.081817</td>\n      <td>-0.541564</td>\n      <td>0.859828</td>\n      <td>1.483749</td>\n      <td>MALE</td>\n    </tr>\n  </tbody>\n</table>\n<p>333 rows × 7 columns</p>\n</div>"
     },
     "metadata": {},
     "output_type": "display_data"
    }
   ],
   "source": [
    "dataset = dataset.reset_index(drop=True)\n",
    "display(dataset)"
   ],
   "metadata": {
    "collapsed": false,
    "pycharm": {
     "name": "#%%\n"
    }
   }
  },
  {
   "cell_type": "code",
   "execution_count": 92,
   "outputs": [
    {
     "name": "stderr",
     "output_type": "stream",
     "text": [
      "d:\\github\\introduction-to-data-mining\\venv\\lib\\site-packages\\sklearn\\preprocessing\\_label.py:115: DataConversionWarning: A column-vector y was passed when a 1d array was expected. Please change the shape of y to (n_samples, ), for example using ravel().\n",
      "  y = column_or_1d(y, warn=True)\n"
     ]
    },
    {
     "data": {
      "text/plain": "     species     island  bill_length_mm  bill_depth_mm  flipper_length_mm  \\\n0          0  Torgersen       -0.896042       0.780732          -1.426752   \n1          0  Torgersen       -0.822788       0.119584          -1.069474   \n2          0  Torgersen       -0.676280       0.424729          -0.426373   \n3          0  Torgersen       -1.335566       1.085877          -0.569284   \n4          0  Torgersen       -0.859415       1.747026          -0.783651   \n..       ...        ...             ...            ...                ...   \n328        2     Biscoe        0.587352      -1.762145           0.931283   \n329        2     Biscoe        0.514098      -1.457000           1.002739   \n330        2     Biscoe        1.173384      -0.744994           1.502928   \n331        2     Biscoe        0.221082      -1.202712           0.788372   \n332        2     Biscoe        1.081817      -0.541564           0.859828   \n\n     body_mass_g     sex  \n0      -0.568475    MALE  \n1      -0.506286  FEMALE  \n2      -1.190361  FEMALE  \n3      -0.941606  FEMALE  \n4      -0.692852    MALE  \n..           ...     ...  \n328     0.892957  FEMALE  \n329     0.799674  FEMALE  \n330     1.919069    MALE  \n331     1.234995  FEMALE  \n332     1.483749    MALE  \n\n[333 rows x 7 columns]",
      "text/html": "<div>\n<style scoped>\n    .dataframe tbody tr th:only-of-type {\n        vertical-align: middle;\n    }\n\n    .dataframe tbody tr th {\n        vertical-align: top;\n    }\n\n    .dataframe thead th {\n        text-align: right;\n    }\n</style>\n<table border=\"1\" class=\"dataframe\">\n  <thead>\n    <tr style=\"text-align: right;\">\n      <th></th>\n      <th>species</th>\n      <th>island</th>\n      <th>bill_length_mm</th>\n      <th>bill_depth_mm</th>\n      <th>flipper_length_mm</th>\n      <th>body_mass_g</th>\n      <th>sex</th>\n    </tr>\n  </thead>\n  <tbody>\n    <tr>\n      <th>0</th>\n      <td>0</td>\n      <td>Torgersen</td>\n      <td>-0.896042</td>\n      <td>0.780732</td>\n      <td>-1.426752</td>\n      <td>-0.568475</td>\n      <td>MALE</td>\n    </tr>\n    <tr>\n      <th>1</th>\n      <td>0</td>\n      <td>Torgersen</td>\n      <td>-0.822788</td>\n      <td>0.119584</td>\n      <td>-1.069474</td>\n      <td>-0.506286</td>\n      <td>FEMALE</td>\n    </tr>\n    <tr>\n      <th>2</th>\n      <td>0</td>\n      <td>Torgersen</td>\n      <td>-0.676280</td>\n      <td>0.424729</td>\n      <td>-0.426373</td>\n      <td>-1.190361</td>\n      <td>FEMALE</td>\n    </tr>\n    <tr>\n      <th>3</th>\n      <td>0</td>\n      <td>Torgersen</td>\n      <td>-1.335566</td>\n      <td>1.085877</td>\n      <td>-0.569284</td>\n      <td>-0.941606</td>\n      <td>FEMALE</td>\n    </tr>\n    <tr>\n      <th>4</th>\n      <td>0</td>\n      <td>Torgersen</td>\n      <td>-0.859415</td>\n      <td>1.747026</td>\n      <td>-0.783651</td>\n      <td>-0.692852</td>\n      <td>MALE</td>\n    </tr>\n    <tr>\n      <th>...</th>\n      <td>...</td>\n      <td>...</td>\n      <td>...</td>\n      <td>...</td>\n      <td>...</td>\n      <td>...</td>\n      <td>...</td>\n    </tr>\n    <tr>\n      <th>328</th>\n      <td>2</td>\n      <td>Biscoe</td>\n      <td>0.587352</td>\n      <td>-1.762145</td>\n      <td>0.931283</td>\n      <td>0.892957</td>\n      <td>FEMALE</td>\n    </tr>\n    <tr>\n      <th>329</th>\n      <td>2</td>\n      <td>Biscoe</td>\n      <td>0.514098</td>\n      <td>-1.457000</td>\n      <td>1.002739</td>\n      <td>0.799674</td>\n      <td>FEMALE</td>\n    </tr>\n    <tr>\n      <th>330</th>\n      <td>2</td>\n      <td>Biscoe</td>\n      <td>1.173384</td>\n      <td>-0.744994</td>\n      <td>1.502928</td>\n      <td>1.919069</td>\n      <td>MALE</td>\n    </tr>\n    <tr>\n      <th>331</th>\n      <td>2</td>\n      <td>Biscoe</td>\n      <td>0.221082</td>\n      <td>-1.202712</td>\n      <td>0.788372</td>\n      <td>1.234995</td>\n      <td>FEMALE</td>\n    </tr>\n    <tr>\n      <th>332</th>\n      <td>2</td>\n      <td>Biscoe</td>\n      <td>1.081817</td>\n      <td>-0.541564</td>\n      <td>0.859828</td>\n      <td>1.483749</td>\n      <td>MALE</td>\n    </tr>\n  </tbody>\n</table>\n<p>333 rows × 7 columns</p>\n</div>"
     },
     "metadata": {},
     "output_type": "display_data"
    }
   ],
   "source": [
    "le_spe = LabelEncoder()\n",
    "dataset['species'] = le_spe.fit_transform(dataset[['species']])\n",
    "display(dataset)"
   ],
   "metadata": {
    "collapsed": false,
    "pycharm": {
     "name": "#%%\n"
    }
   }
  },
  {
   "cell_type": "code",
   "execution_count": 93,
   "outputs": [
    {
     "name": "stderr",
     "output_type": "stream",
     "text": [
      "d:\\github\\introduction-to-data-mining\\venv\\lib\\site-packages\\sklearn\\preprocessing\\_label.py:115: DataConversionWarning: A column-vector y was passed when a 1d array was expected. Please change the shape of y to (n_samples, ), for example using ravel().\n",
      "  y = column_or_1d(y, warn=True)\n"
     ]
    },
    {
     "data": {
      "text/plain": "     species  island  bill_length_mm  bill_depth_mm  flipper_length_mm  \\\n0          0       2       -0.896042       0.780732          -1.426752   \n1          0       2       -0.822788       0.119584          -1.069474   \n2          0       2       -0.676280       0.424729          -0.426373   \n3          0       2       -1.335566       1.085877          -0.569284   \n4          0       2       -0.859415       1.747026          -0.783651   \n..       ...     ...             ...            ...                ...   \n328        2       0        0.587352      -1.762145           0.931283   \n329        2       0        0.514098      -1.457000           1.002739   \n330        2       0        1.173384      -0.744994           1.502928   \n331        2       0        0.221082      -1.202712           0.788372   \n332        2       0        1.081817      -0.541564           0.859828   \n\n     body_mass_g     sex  \n0      -0.568475    MALE  \n1      -0.506286  FEMALE  \n2      -1.190361  FEMALE  \n3      -0.941606  FEMALE  \n4      -0.692852    MALE  \n..           ...     ...  \n328     0.892957  FEMALE  \n329     0.799674  FEMALE  \n330     1.919069    MALE  \n331     1.234995  FEMALE  \n332     1.483749    MALE  \n\n[333 rows x 7 columns]",
      "text/html": "<div>\n<style scoped>\n    .dataframe tbody tr th:only-of-type {\n        vertical-align: middle;\n    }\n\n    .dataframe tbody tr th {\n        vertical-align: top;\n    }\n\n    .dataframe thead th {\n        text-align: right;\n    }\n</style>\n<table border=\"1\" class=\"dataframe\">\n  <thead>\n    <tr style=\"text-align: right;\">\n      <th></th>\n      <th>species</th>\n      <th>island</th>\n      <th>bill_length_mm</th>\n      <th>bill_depth_mm</th>\n      <th>flipper_length_mm</th>\n      <th>body_mass_g</th>\n      <th>sex</th>\n    </tr>\n  </thead>\n  <tbody>\n    <tr>\n      <th>0</th>\n      <td>0</td>\n      <td>2</td>\n      <td>-0.896042</td>\n      <td>0.780732</td>\n      <td>-1.426752</td>\n      <td>-0.568475</td>\n      <td>MALE</td>\n    </tr>\n    <tr>\n      <th>1</th>\n      <td>0</td>\n      <td>2</td>\n      <td>-0.822788</td>\n      <td>0.119584</td>\n      <td>-1.069474</td>\n      <td>-0.506286</td>\n      <td>FEMALE</td>\n    </tr>\n    <tr>\n      <th>2</th>\n      <td>0</td>\n      <td>2</td>\n      <td>-0.676280</td>\n      <td>0.424729</td>\n      <td>-0.426373</td>\n      <td>-1.190361</td>\n      <td>FEMALE</td>\n    </tr>\n    <tr>\n      <th>3</th>\n      <td>0</td>\n      <td>2</td>\n      <td>-1.335566</td>\n      <td>1.085877</td>\n      <td>-0.569284</td>\n      <td>-0.941606</td>\n      <td>FEMALE</td>\n    </tr>\n    <tr>\n      <th>4</th>\n      <td>0</td>\n      <td>2</td>\n      <td>-0.859415</td>\n      <td>1.747026</td>\n      <td>-0.783651</td>\n      <td>-0.692852</td>\n      <td>MALE</td>\n    </tr>\n    <tr>\n      <th>...</th>\n      <td>...</td>\n      <td>...</td>\n      <td>...</td>\n      <td>...</td>\n      <td>...</td>\n      <td>...</td>\n      <td>...</td>\n    </tr>\n    <tr>\n      <th>328</th>\n      <td>2</td>\n      <td>0</td>\n      <td>0.587352</td>\n      <td>-1.762145</td>\n      <td>0.931283</td>\n      <td>0.892957</td>\n      <td>FEMALE</td>\n    </tr>\n    <tr>\n      <th>329</th>\n      <td>2</td>\n      <td>0</td>\n      <td>0.514098</td>\n      <td>-1.457000</td>\n      <td>1.002739</td>\n      <td>0.799674</td>\n      <td>FEMALE</td>\n    </tr>\n    <tr>\n      <th>330</th>\n      <td>2</td>\n      <td>0</td>\n      <td>1.173384</td>\n      <td>-0.744994</td>\n      <td>1.502928</td>\n      <td>1.919069</td>\n      <td>MALE</td>\n    </tr>\n    <tr>\n      <th>331</th>\n      <td>2</td>\n      <td>0</td>\n      <td>0.221082</td>\n      <td>-1.202712</td>\n      <td>0.788372</td>\n      <td>1.234995</td>\n      <td>FEMALE</td>\n    </tr>\n    <tr>\n      <th>332</th>\n      <td>2</td>\n      <td>0</td>\n      <td>1.081817</td>\n      <td>-0.541564</td>\n      <td>0.859828</td>\n      <td>1.483749</td>\n      <td>MALE</td>\n    </tr>\n  </tbody>\n</table>\n<p>333 rows × 7 columns</p>\n</div>"
     },
     "metadata": {},
     "output_type": "display_data"
    }
   ],
   "source": [
    "le_isl = LabelEncoder()\n",
    "dataset['island'] = le_isl.fit_transform(dataset[['island']])\n",
    "display(dataset)"
   ],
   "metadata": {
    "collapsed": false,
    "pycharm": {
     "name": "#%%\n"
    }
   }
  },
  {
   "cell_type": "code",
   "execution_count": 94,
   "outputs": [
    {
     "name": "stderr",
     "output_type": "stream",
     "text": [
      "d:\\github\\introduction-to-data-mining\\venv\\lib\\site-packages\\sklearn\\preprocessing\\_label.py:115: DataConversionWarning: A column-vector y was passed when a 1d array was expected. Please change the shape of y to (n_samples, ), for example using ravel().\n",
      "  y = column_or_1d(y, warn=True)\n"
     ]
    },
    {
     "data": {
      "text/plain": "     species  island  bill_length_mm  bill_depth_mm  flipper_length_mm  \\\n0          0       2       -0.896042       0.780732          -1.426752   \n1          0       2       -0.822788       0.119584          -1.069474   \n2          0       2       -0.676280       0.424729          -0.426373   \n3          0       2       -1.335566       1.085877          -0.569284   \n4          0       2       -0.859415       1.747026          -0.783651   \n..       ...     ...             ...            ...                ...   \n328        2       0        0.587352      -1.762145           0.931283   \n329        2       0        0.514098      -1.457000           1.002739   \n330        2       0        1.173384      -0.744994           1.502928   \n331        2       0        0.221082      -1.202712           0.788372   \n332        2       0        1.081817      -0.541564           0.859828   \n\n     body_mass_g  sex  \n0      -0.568475    1  \n1      -0.506286    0  \n2      -1.190361    0  \n3      -0.941606    0  \n4      -0.692852    1  \n..           ...  ...  \n328     0.892957    0  \n329     0.799674    0  \n330     1.919069    1  \n331     1.234995    0  \n332     1.483749    1  \n\n[333 rows x 7 columns]",
      "text/html": "<div>\n<style scoped>\n    .dataframe tbody tr th:only-of-type {\n        vertical-align: middle;\n    }\n\n    .dataframe tbody tr th {\n        vertical-align: top;\n    }\n\n    .dataframe thead th {\n        text-align: right;\n    }\n</style>\n<table border=\"1\" class=\"dataframe\">\n  <thead>\n    <tr style=\"text-align: right;\">\n      <th></th>\n      <th>species</th>\n      <th>island</th>\n      <th>bill_length_mm</th>\n      <th>bill_depth_mm</th>\n      <th>flipper_length_mm</th>\n      <th>body_mass_g</th>\n      <th>sex</th>\n    </tr>\n  </thead>\n  <tbody>\n    <tr>\n      <th>0</th>\n      <td>0</td>\n      <td>2</td>\n      <td>-0.896042</td>\n      <td>0.780732</td>\n      <td>-1.426752</td>\n      <td>-0.568475</td>\n      <td>1</td>\n    </tr>\n    <tr>\n      <th>1</th>\n      <td>0</td>\n      <td>2</td>\n      <td>-0.822788</td>\n      <td>0.119584</td>\n      <td>-1.069474</td>\n      <td>-0.506286</td>\n      <td>0</td>\n    </tr>\n    <tr>\n      <th>2</th>\n      <td>0</td>\n      <td>2</td>\n      <td>-0.676280</td>\n      <td>0.424729</td>\n      <td>-0.426373</td>\n      <td>-1.190361</td>\n      <td>0</td>\n    </tr>\n    <tr>\n      <th>3</th>\n      <td>0</td>\n      <td>2</td>\n      <td>-1.335566</td>\n      <td>1.085877</td>\n      <td>-0.569284</td>\n      <td>-0.941606</td>\n      <td>0</td>\n    </tr>\n    <tr>\n      <th>4</th>\n      <td>0</td>\n      <td>2</td>\n      <td>-0.859415</td>\n      <td>1.747026</td>\n      <td>-0.783651</td>\n      <td>-0.692852</td>\n      <td>1</td>\n    </tr>\n    <tr>\n      <th>...</th>\n      <td>...</td>\n      <td>...</td>\n      <td>...</td>\n      <td>...</td>\n      <td>...</td>\n      <td>...</td>\n      <td>...</td>\n    </tr>\n    <tr>\n      <th>328</th>\n      <td>2</td>\n      <td>0</td>\n      <td>0.587352</td>\n      <td>-1.762145</td>\n      <td>0.931283</td>\n      <td>0.892957</td>\n      <td>0</td>\n    </tr>\n    <tr>\n      <th>329</th>\n      <td>2</td>\n      <td>0</td>\n      <td>0.514098</td>\n      <td>-1.457000</td>\n      <td>1.002739</td>\n      <td>0.799674</td>\n      <td>0</td>\n    </tr>\n    <tr>\n      <th>330</th>\n      <td>2</td>\n      <td>0</td>\n      <td>1.173384</td>\n      <td>-0.744994</td>\n      <td>1.502928</td>\n      <td>1.919069</td>\n      <td>1</td>\n    </tr>\n    <tr>\n      <th>331</th>\n      <td>2</td>\n      <td>0</td>\n      <td>0.221082</td>\n      <td>-1.202712</td>\n      <td>0.788372</td>\n      <td>1.234995</td>\n      <td>0</td>\n    </tr>\n    <tr>\n      <th>332</th>\n      <td>2</td>\n      <td>0</td>\n      <td>1.081817</td>\n      <td>-0.541564</td>\n      <td>0.859828</td>\n      <td>1.483749</td>\n      <td>1</td>\n    </tr>\n  </tbody>\n</table>\n<p>333 rows × 7 columns</p>\n</div>"
     },
     "metadata": {},
     "output_type": "display_data"
    }
   ],
   "source": [
    "le_sex = LabelEncoder()\n",
    "dataset['sex'] = le_sex.fit_transform(dataset[['sex']])\n",
    "display(dataset)"
   ],
   "metadata": {
    "collapsed": false,
    "pycharm": {
     "name": "#%%\n"
    }
   }
  },
  {
   "cell_type": "code",
   "execution_count": null,
   "outputs": [],
   "source": [],
   "metadata": {
    "collapsed": false,
    "pycharm": {
     "name": "#%%\n"
    }
   }
  }
 ],
 "metadata": {
  "kernelspec": {
   "display_name": "Python 3",
   "language": "python",
   "name": "python3"
  },
  "language_info": {
   "codemirror_mode": {
    "name": "ipython",
    "version": 2
   },
   "file_extension": ".py",
   "mimetype": "text/x-python",
   "name": "python",
   "nbconvert_exporter": "python",
   "pygments_lexer": "ipython2",
   "version": "2.7.6"
  }
 },
 "nbformat": 4,
 "nbformat_minor": 0
}