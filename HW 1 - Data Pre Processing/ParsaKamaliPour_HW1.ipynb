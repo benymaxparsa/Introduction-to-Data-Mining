{
 "cells": [
  {
   "cell_type": "markdown",
   "source": [
    "# Data Mining: Homework 1 - Data Pre Processing\n",
    "### Parsa KamaliPour - 97149081"
   ],
   "metadata": {
    "collapsed": false,
    "pycharm": {
     "name": "#%% md\n"
    }
   }
  },
  {
   "cell_type": "markdown",
   "source": [
    "## Import the required Packages"
   ],
   "metadata": {
    "collapsed": false,
    "pycharm": {
     "name": "#%% md\n"
    }
   }
  },
  {
   "cell_type": "code",
   "execution_count": 3,
   "metadata": {
    "collapsed": true
   },
   "outputs": [],
   "source": [
    "from copy import deepcopy\n",
    "\n",
    "import numpy as np\n",
    "import pandas as pd\n",
    "import matplotlib.pyplot as plt\n",
    "from IPython.core.display_functions import display\n",
    "from sklearn.preprocessing import LabelEncoder\n",
    "from sklearn.preprocessing import StandardScaler\n",
    "from sklearn.preprocessing import MinMaxScaler"
   ]
  },
  {
   "cell_type": "markdown",
   "source": [
    "## 1. read the social_network_ads.csv file and print the top 10 of it's records"
   ],
   "metadata": {
    "collapsed": false,
    "pycharm": {
     "name": "#%% md\n"
    }
   }
  },
  {
   "cell_type": "code",
   "execution_count": 4,
   "outputs": [
    {
     "data": {
      "text/plain": "      User ID  Gender  Age  EstimatedSalary  Purchased\n0    15624510    Male   19            19000          0\n1    15810944    Male   35            20000          0\n2    15668575  Female   26            43000          0\n3    15603246  Female   27            57000          0\n4    15804002    Male   19            76000          0\n..        ...     ...  ...              ...        ...\n395  15691863  Female   46            41000          1\n396  15706071    Male   51            23000          1\n397  15654296  Female   50            20000          1\n398  15755018    Male   36            33000          0\n399  15594041  Female   49            36000          1\n\n[400 rows x 5 columns]",
      "text/html": "<div>\n<style scoped>\n    .dataframe tbody tr th:only-of-type {\n        vertical-align: middle;\n    }\n\n    .dataframe tbody tr th {\n        vertical-align: top;\n    }\n\n    .dataframe thead th {\n        text-align: right;\n    }\n</style>\n<table border=\"1\" class=\"dataframe\">\n  <thead>\n    <tr style=\"text-align: right;\">\n      <th></th>\n      <th>User ID</th>\n      <th>Gender</th>\n      <th>Age</th>\n      <th>EstimatedSalary</th>\n      <th>Purchased</th>\n    </tr>\n  </thead>\n  <tbody>\n    <tr>\n      <th>0</th>\n      <td>15624510</td>\n      <td>Male</td>\n      <td>19</td>\n      <td>19000</td>\n      <td>0</td>\n    </tr>\n    <tr>\n      <th>1</th>\n      <td>15810944</td>\n      <td>Male</td>\n      <td>35</td>\n      <td>20000</td>\n      <td>0</td>\n    </tr>\n    <tr>\n      <th>2</th>\n      <td>15668575</td>\n      <td>Female</td>\n      <td>26</td>\n      <td>43000</td>\n      <td>0</td>\n    </tr>\n    <tr>\n      <th>3</th>\n      <td>15603246</td>\n      <td>Female</td>\n      <td>27</td>\n      <td>57000</td>\n      <td>0</td>\n    </tr>\n    <tr>\n      <th>4</th>\n      <td>15804002</td>\n      <td>Male</td>\n      <td>19</td>\n      <td>76000</td>\n      <td>0</td>\n    </tr>\n    <tr>\n      <th>...</th>\n      <td>...</td>\n      <td>...</td>\n      <td>...</td>\n      <td>...</td>\n      <td>...</td>\n    </tr>\n    <tr>\n      <th>395</th>\n      <td>15691863</td>\n      <td>Female</td>\n      <td>46</td>\n      <td>41000</td>\n      <td>1</td>\n    </tr>\n    <tr>\n      <th>396</th>\n      <td>15706071</td>\n      <td>Male</td>\n      <td>51</td>\n      <td>23000</td>\n      <td>1</td>\n    </tr>\n    <tr>\n      <th>397</th>\n      <td>15654296</td>\n      <td>Female</td>\n      <td>50</td>\n      <td>20000</td>\n      <td>1</td>\n    </tr>\n    <tr>\n      <th>398</th>\n      <td>15755018</td>\n      <td>Male</td>\n      <td>36</td>\n      <td>33000</td>\n      <td>0</td>\n    </tr>\n    <tr>\n      <th>399</th>\n      <td>15594041</td>\n      <td>Female</td>\n      <td>49</td>\n      <td>36000</td>\n      <td>1</td>\n    </tr>\n  </tbody>\n</table>\n<p>400 rows × 5 columns</p>\n</div>"
     },
     "metadata": {},
     "output_type": "display_data"
    }
   ],
   "source": [
    "social_net_ads = pd.read_csv(\"Social_Network_Ads.csv\")\n",
    "\n",
    "display(social_net_ads)"
   ],
   "metadata": {
    "collapsed": false,
    "pycharm": {
     "name": "#%%\n"
    }
   }
  },
  {
   "cell_type": "code",
   "execution_count": 5,
   "outputs": [
    {
     "data": {
      "text/plain": "    User ID  Gender  Age  EstimatedSalary  Purchased\n0  15624510    Male   19            19000          0\n1  15810944    Male   35            20000          0\n2  15668575  Female   26            43000          0\n3  15603246  Female   27            57000          0\n4  15804002    Male   19            76000          0\n5  15728773    Male   27            58000          0\n6  15598044  Female   27            84000          0\n7  15694829  Female   32           150000          1\n8  15600575    Male   25            33000          0\n9  15727311  Female   35            65000          0",
      "text/html": "<div>\n<style scoped>\n    .dataframe tbody tr th:only-of-type {\n        vertical-align: middle;\n    }\n\n    .dataframe tbody tr th {\n        vertical-align: top;\n    }\n\n    .dataframe thead th {\n        text-align: right;\n    }\n</style>\n<table border=\"1\" class=\"dataframe\">\n  <thead>\n    <tr style=\"text-align: right;\">\n      <th></th>\n      <th>User ID</th>\n      <th>Gender</th>\n      <th>Age</th>\n      <th>EstimatedSalary</th>\n      <th>Purchased</th>\n    </tr>\n  </thead>\n  <tbody>\n    <tr>\n      <th>0</th>\n      <td>15624510</td>\n      <td>Male</td>\n      <td>19</td>\n      <td>19000</td>\n      <td>0</td>\n    </tr>\n    <tr>\n      <th>1</th>\n      <td>15810944</td>\n      <td>Male</td>\n      <td>35</td>\n      <td>20000</td>\n      <td>0</td>\n    </tr>\n    <tr>\n      <th>2</th>\n      <td>15668575</td>\n      <td>Female</td>\n      <td>26</td>\n      <td>43000</td>\n      <td>0</td>\n    </tr>\n    <tr>\n      <th>3</th>\n      <td>15603246</td>\n      <td>Female</td>\n      <td>27</td>\n      <td>57000</td>\n      <td>0</td>\n    </tr>\n    <tr>\n      <th>4</th>\n      <td>15804002</td>\n      <td>Male</td>\n      <td>19</td>\n      <td>76000</td>\n      <td>0</td>\n    </tr>\n    <tr>\n      <th>5</th>\n      <td>15728773</td>\n      <td>Male</td>\n      <td>27</td>\n      <td>58000</td>\n      <td>0</td>\n    </tr>\n    <tr>\n      <th>6</th>\n      <td>15598044</td>\n      <td>Female</td>\n      <td>27</td>\n      <td>84000</td>\n      <td>0</td>\n    </tr>\n    <tr>\n      <th>7</th>\n      <td>15694829</td>\n      <td>Female</td>\n      <td>32</td>\n      <td>150000</td>\n      <td>1</td>\n    </tr>\n    <tr>\n      <th>8</th>\n      <td>15600575</td>\n      <td>Male</td>\n      <td>25</td>\n      <td>33000</td>\n      <td>0</td>\n    </tr>\n    <tr>\n      <th>9</th>\n      <td>15727311</td>\n      <td>Female</td>\n      <td>35</td>\n      <td>65000</td>\n      <td>0</td>\n    </tr>\n  </tbody>\n</table>\n</div>"
     },
     "metadata": {},
     "output_type": "display_data"
    }
   ],
   "source": [
    "first_10_record = social_net_ads.head(n=10)\n",
    "display(first_10_record)"
   ],
   "metadata": {
    "collapsed": false,
    "pycharm": {
     "name": "#%%\n"
    }
   }
  },
  {
   "cell_type": "code",
   "execution_count": 6,
   "outputs": [],
   "source": [
    "x_di = social_net_ads[['EstimatedSalary']].values\n",
    "y_di = social_net_ads[['Age']].values\n"
   ],
   "metadata": {
    "collapsed": false,
    "pycharm": {
     "name": "#%%\n"
    }
   }
  },
  {
   "cell_type": "code",
   "execution_count": 8,
   "outputs": [
    {
     "data": {
      "text/plain": "Text(0, 0.5, 'Estimated Salary')"
     },
     "execution_count": 8,
     "metadata": {},
     "output_type": "execute_result"
    },
    {
     "data": {
      "text/plain": "<Figure size 432x288 with 1 Axes>",
      "image/png": "[encoded data removed]"
     },
     "metadata": {
      "needs_background": "light"
     },
     "output_type": "display_data"
    }
   ],
   "source": [
    "ax = plt.axes()\n",
    "ax.scatter(x=y_di, y=x_di)\n",
    "plt.xlabel(\"age\")\n",
    "plt.ylabel(\"Estimated Salary\")"
   ],
   "metadata": {
    "collapsed": false,
    "pycharm": {
     "name": "#%%\n"
    }
   }
  },
  {
   "cell_type": "markdown",
   "source": [
    "## 2. Select columns \"Age\" & \"EstimatedSalary\" and normalize them:"
   ],
   "metadata": {
    "collapsed": false,
    "pycharm": {
     "name": "#%% md\n"
    }
   }
  },
  {
   "cell_type": "markdown",
   "source": [
    "### 2.1. normalize without using sklearn & it's preprocessing class"
   ],
   "metadata": {
    "collapsed": false,
    "pycharm": {
     "name": "#%% md\n"
    }
   }
  },
  {
   "cell_type": "code",
   "execution_count": 9,
   "outputs": [],
   "source": [
    "def z_score_calculator(org_val:float, mean:float, standard_deviation:float) -> float:\n",
    "    return (org_val - mean) / standard_deviation\n",
    "\n",
    "age = social_net_ads[['Age']].values\n",
    "estimated_salary = social_net_ads[['EstimatedSalary']].values\n",
    "\n",
    "# display(age)\n",
    "# display(estimated_salary)"
   ],
   "metadata": {
    "collapsed": false,
    "pycharm": {
     "name": "#%%\n"
    }
   }
  },
  {
   "cell_type": "code",
   "execution_count": 10,
   "outputs": [
    {
     "name": "stdout",
     "output_type": "stream",
     "text": [
      "age mean:  37.655\n",
      "age standard deviation:  10.46976480156073\n"
     ]
    }
   ],
   "source": [
    "age_mean = age.mean()\n",
    "age_standard_deviation = np.std(age)\n",
    "\n",
    "print(\"age mean: \", age_mean)\n",
    "print(\"age standard deviation: \",age_standard_deviation)\n",
    "\n",
    "for i in range(len(age)):\n",
    "    age[i] = z_score_calculator(age[i], age_mean, age_standard_deviation)\n",
    "\n",
    "# display(age)"
   ],
   "metadata": {
    "collapsed": false,
    "pycharm": {
     "name": "#%%\n"
    }
   }
  },
  {
   "cell_type": "code",
   "execution_count": 11,
   "outputs": [
    {
     "name": "stdout",
     "output_type": "stream",
     "text": [
      "estimated_salary mean:  69742.5\n",
      "estimated_salary standard deviation:  34054.3124104716\n"
     ]
    }
   ],
   "source": [
    "estimated_salary_mean = estimated_salary.mean()\n",
    "estimated_salary_standard_deviation = np.std(estimated_salary)\n",
    "\n",
    "print(\"estimated_salary mean: \", estimated_salary_mean)\n",
    "print(\"estimated_salary standard deviation: \",estimated_salary_standard_deviation)\n",
    "\n",
    "for i in range(len(estimated_salary)):\n",
    "    estimated_salary[i] = z_score_calculator(estimated_salary[i], estimated_salary_mean, estimated_salary_standard_deviation)\n",
    "\n",
    "# display(estimated_salary)"
   ],
   "metadata": {
    "collapsed": false,
    "pycharm": {
     "name": "#%%\n"
    }
   }
  },
  {
   "cell_type": "code",
   "execution_count": 12,
   "outputs": [
    {
     "data": {
      "text/plain": "      User ID  Gender  Age  EstimatedSalary  Purchased\n0    15624510    Male   -1               -1          0\n1    15810944    Male    0               -1          0\n2    15668575  Female   -1                0          0\n3    15603246  Female   -1                0          0\n4    15804002    Male   -1                0          0\n..        ...     ...  ...              ...        ...\n395  15691863  Female    0                0          1\n396  15706071    Male    1               -1          1\n397  15654296  Female    1               -1          1\n398  15755018    Male    0               -1          0\n399  15594041  Female    1                0          1\n\n[400 rows x 5 columns]",
      "text/html": "<div>\n<style scoped>\n    .dataframe tbody tr th:only-of-type {\n        vertical-align: middle;\n    }\n\n    .dataframe tbody tr th {\n        vertical-align: top;\n    }\n\n    .dataframe thead th {\n        text-align: right;\n    }\n</style>\n<table border=\"1\" class=\"dataframe\">\n  <thead>\n    <tr style=\"text-align: right;\">\n      <th></th>\n      <th>User ID</th>\n      <th>Gender</th>\n      <th>Age</th>\n      <th>EstimatedSalary</th>\n      <th>Purchased</th>\n    </tr>\n  </thead>\n  <tbody>\n    <tr>\n      <th>0</th>\n      <td>15624510</td>\n      <td>Male</td>\n      <td>-1</td>\n      <td>-1</td>\n      <td>0</td>\n    </tr>\n    <tr>\n      <th>1</th>\n      <td>15810944</td>\n      <td>Male</td>\n      <td>0</td>\n      <td>-1</td>\n      <td>0</td>\n    </tr>\n    <tr>\n      <th>2</th>\n      <td>15668575</td>\n      <td>Female</td>\n      <td>-1</td>\n      <td>0</td>\n      <td>0</td>\n    </tr>\n    <tr>\n      <th>3</th>\n      <td>15603246</td>\n      <td>Female</td>\n      <td>-1</td>\n      <td>0</td>\n      <td>0</td>\n    </tr>\n    <tr>\n      <th>4</th>\n      <td>15804002</td>\n      <td>Male</td>\n      <td>-1</td>\n      <td>0</td>\n      <td>0</td>\n    </tr>\n    <tr>\n      <th>...</th>\n      <td>...</td>\n      <td>...</td>\n      <td>...</td>\n      <td>...</td>\n      <td>...</td>\n    </tr>\n    <tr>\n      <th>395</th>\n      <td>15691863</td>\n      <td>Female</td>\n      <td>0</td>\n      <td>0</td>\n      <td>1</td>\n    </tr>\n    <tr>\n      <th>396</th>\n      <td>15706071</td>\n      <td>Male</td>\n      <td>1</td>\n      <td>-1</td>\n      <td>1</td>\n    </tr>\n    <tr>\n      <th>397</th>\n      <td>15654296</td>\n      <td>Female</td>\n      <td>1</td>\n      <td>-1</td>\n      <td>1</td>\n    </tr>\n    <tr>\n      <th>398</th>\n      <td>15755018</td>\n      <td>Male</td>\n      <td>0</td>\n      <td>-1</td>\n      <td>0</td>\n    </tr>\n    <tr>\n      <th>399</th>\n      <td>15594041</td>\n      <td>Female</td>\n      <td>1</td>\n      <td>0</td>\n      <td>1</td>\n    </tr>\n  </tbody>\n</table>\n<p>400 rows × 5 columns</p>\n</div>"
     },
     "metadata": {},
     "output_type": "display_data"
    },
    {
     "data": {
      "text/plain": "      User ID  Gender  Age  EstimatedSalary  Purchased\n0    15624510    Male   19            19000          0\n1    15810944    Male   35            20000          0\n2    15668575  Female   26            43000          0\n3    15603246  Female   27            57000          0\n4    15804002    Male   19            76000          0\n..        ...     ...  ...              ...        ...\n395  15691863  Female   46            41000          1\n396  15706071    Male   51            23000          1\n397  15654296  Female   50            20000          1\n398  15755018    Male   36            33000          0\n399  15594041  Female   49            36000          1\n\n[400 rows x 5 columns]",
      "text/html": "<div>\n<style scoped>\n    .dataframe tbody tr th:only-of-type {\n        vertical-align: middle;\n    }\n\n    .dataframe tbody tr th {\n        vertical-align: top;\n    }\n\n    .dataframe thead th {\n        text-align: right;\n    }\n</style>\n<table border=\"1\" class=\"dataframe\">\n  <thead>\n    <tr style=\"text-align: right;\">\n      <th></th>\n      <th>User ID</th>\n      <th>Gender</th>\n      <th>Age</th>\n      <th>EstimatedSalary</th>\n      <th>Purchased</th>\n    </tr>\n  </thead>\n  <tbody>\n    <tr>\n      <th>0</th>\n      <td>15624510</td>\n      <td>Male</td>\n      <td>19</td>\n      <td>19000</td>\n      <td>0</td>\n    </tr>\n    <tr>\n      <th>1</th>\n      <td>15810944</td>\n      <td>Male</td>\n      <td>35</td>\n      <td>20000</td>\n      <td>0</td>\n    </tr>\n    <tr>\n      <th>2</th>\n      <td>15668575</td>\n      <td>Female</td>\n      <td>26</td>\n      <td>43000</td>\n      <td>0</td>\n    </tr>\n    <tr>\n      <th>3</th>\n      <td>15603246</td>\n      <td>Female</td>\n      <td>27</td>\n      <td>57000</td>\n      <td>0</td>\n    </tr>\n    <tr>\n      <th>4</th>\n      <td>15804002</td>\n      <td>Male</td>\n      <td>19</td>\n      <td>76000</td>\n      <td>0</td>\n    </tr>\n    <tr>\n      <th>...</th>\n      <td>...</td>\n      <td>...</td>\n      <td>...</td>\n      <td>...</td>\n      <td>...</td>\n    </tr>\n    <tr>\n      <th>395</th>\n      <td>15691863</td>\n      <td>Female</td>\n      <td>46</td>\n      <td>41000</td>\n      <td>1</td>\n    </tr>\n    <tr>\n      <th>396</th>\n      <td>15706071</td>\n      <td>Male</td>\n      <td>51</td>\n      <td>23000</td>\n      <td>1</td>\n    </tr>\n    <tr>\n      <th>397</th>\n      <td>15654296</td>\n      <td>Female</td>\n      <td>50</td>\n      <td>20000</td>\n      <td>1</td>\n    </tr>\n    <tr>\n      <th>398</th>\n      <td>15755018</td>\n      <td>Male</td>\n      <td>36</td>\n      <td>33000</td>\n      <td>0</td>\n    </tr>\n    <tr>\n      <th>399</th>\n      <td>15594041</td>\n      <td>Female</td>\n      <td>49</td>\n      <td>36000</td>\n      <td>1</td>\n    </tr>\n  </tbody>\n</table>\n<p>400 rows × 5 columns</p>\n</div>"
     },
     "metadata": {},
     "output_type": "display_data"
    }
   ],
   "source": [
    "normal1_social_net = deepcopy(social_net_ads)\n",
    "\n",
    "normal1_social_net[['Age']] = age\n",
    "normal1_social_net[['EstimatedSalary']] = estimated_salary\n",
    "\n",
    "display(normal1_social_net)\n",
    "display(social_net_ads)"
   ],
   "metadata": {
    "collapsed": false,
    "pycharm": {
     "name": "#%%\n"
    }
   }
  },
  {
   "cell_type": "code",
   "execution_count": 13,
   "outputs": [
    {
     "data": {
      "text/plain": "    User ID  Gender  Age  EstimatedSalary  Purchased\n0  15624510    Male   -1               -1          0\n1  15810944    Male    0               -1          0\n2  15668575  Female   -1                0          0\n3  15603246  Female   -1                0          0\n4  15804002    Male   -1                0          0\n5  15728773    Male   -1                0          0\n6  15598044  Female   -1                0          0\n7  15694829  Female    0                2          1\n8  15600575    Male   -1               -1          0\n9  15727311  Female    0                0          0",
      "text/html": "<div>\n<style scoped>\n    .dataframe tbody tr th:only-of-type {\n        vertical-align: middle;\n    }\n\n    .dataframe tbody tr th {\n        vertical-align: top;\n    }\n\n    .dataframe thead th {\n        text-align: right;\n    }\n</style>\n<table border=\"1\" class=\"dataframe\">\n  <thead>\n    <tr style=\"text-align: right;\">\n      <th></th>\n      <th>User ID</th>\n      <th>Gender</th>\n      <th>Age</th>\n      <th>EstimatedSalary</th>\n      <th>Purchased</th>\n    </tr>\n  </thead>\n  <tbody>\n    <tr>\n      <th>0</th>\n      <td>15624510</td>\n      <td>Male</td>\n      <td>-1</td>\n      <td>-1</td>\n      <td>0</td>\n    </tr>\n    <tr>\n      <th>1</th>\n      <td>15810944</td>\n      <td>Male</td>\n      <td>0</td>\n      <td>-1</td>\n      <td>0</td>\n    </tr>\n    <tr>\n      <th>2</th>\n      <td>15668575</td>\n      <td>Female</td>\n      <td>-1</td>\n      <td>0</td>\n      <td>0</td>\n    </tr>\n    <tr>\n      <th>3</th>\n      <td>15603246</td>\n      <td>Female</td>\n      <td>-1</td>\n      <td>0</td>\n      <td>0</td>\n    </tr>\n    <tr>\n      <th>4</th>\n      <td>15804002</td>\n      <td>Male</td>\n      <td>-1</td>\n      <td>0</td>\n      <td>0</td>\n    </tr>\n    <tr>\n      <th>5</th>\n      <td>15728773</td>\n      <td>Male</td>\n      <td>-1</td>\n      <td>0</td>\n      <td>0</td>\n    </tr>\n    <tr>\n      <th>6</th>\n      <td>15598044</td>\n      <td>Female</td>\n      <td>-1</td>\n      <td>0</td>\n      <td>0</td>\n    </tr>\n    <tr>\n      <th>7</th>\n      <td>15694829</td>\n      <td>Female</td>\n      <td>0</td>\n      <td>2</td>\n      <td>1</td>\n    </tr>\n    <tr>\n      <th>8</th>\n      <td>15600575</td>\n      <td>Male</td>\n      <td>-1</td>\n      <td>-1</td>\n      <td>0</td>\n    </tr>\n    <tr>\n      <th>9</th>\n      <td>15727311</td>\n      <td>Female</td>\n      <td>0</td>\n      <td>0</td>\n      <td>0</td>\n    </tr>\n  </tbody>\n</table>\n</div>"
     },
     "metadata": {},
     "output_type": "display_data"
    }
   ],
   "source": [
    "first_10_record = normal1_social_net.head(n=10)\n",
    "display(first_10_record)"
   ],
   "metadata": {
    "collapsed": false,
    "pycharm": {
     "name": "#%%\n"
    }
   }
  },
  {
   "cell_type": "code",
   "execution_count": 14,
   "outputs": [
    {
     "data": {
      "text/plain": "Text(0, 0.5, 'Estimated Salary')"
     },
     "execution_count": 14,
     "metadata": {},
     "output_type": "execute_result"
    },
    {
     "data": {
      "text/plain": "<Figure size 432x288 with 1 Axes>",
      "image/png": "[encoded data removed]"
     },
     "metadata": {
      "needs_background": "light"
     },
     "output_type": "display_data"
    }
   ],
   "source": [
    "x_di = normal1_social_net[['EstimatedSalary']].values\n",
    "y_di = normal1_social_net[['Age']].values\n",
    "\n",
    "ax = plt.axes()\n",
    "ax.scatter(x=y_di, y=x_di)\n",
    "plt.xlabel(\"age\")\n",
    "plt.ylabel(\"Estimated Salary\")"
   ],
   "metadata": {
    "collapsed": false,
    "pycharm": {
     "name": "#%%\n"
    }
   }
  },
  {
   "cell_type": "markdown",
   "source": [
    "### 2.2. normalize using sklearn & it's preprocessing class"
   ],
   "metadata": {
    "collapsed": false,
    "pycharm": {
     "name": "#%% md\n"
    }
   }
  },
  {
   "cell_type": "code",
   "execution_count": 15,
   "outputs": [],
   "source": [
    "age = social_net_ads[['Age']].values\n",
    "estimated_salary = social_net_ads[['EstimatedSalary']].values\n"
   ],
   "metadata": {
    "collapsed": false,
    "pycharm": {
     "name": "#%%\n"
    }
   }
  },
  {
   "cell_type": "code",
   "execution_count": 16,
   "outputs": [
    {
     "name": "stdout",
     "output_type": "stream",
     "text": [
      "[37.655]\n"
     ]
    }
   ],
   "source": [
    "scaler = StandardScaler()\n",
    "scaler.fit(age)\n",
    "print(scaler.mean_)\n",
    "age = scaler.transform(age)\n"
   ],
   "metadata": {
    "collapsed": false,
    "pycharm": {
     "name": "#%%\n"
    }
   }
  },
  {
   "cell_type": "code",
   "execution_count": 17,
   "outputs": [
    {
     "name": "stdout",
     "output_type": "stream",
     "text": [
      "[69742.5]\n"
     ]
    }
   ],
   "source": [
    "scaler = StandardScaler()\n",
    "scaler.fit(estimated_salary)\n",
    "print(scaler.mean_)\n",
    "estimated_salary = scaler.transform(estimated_salary)"
   ],
   "metadata": {
    "collapsed": false,
    "pycharm": {
     "name": "#%%\n"
    }
   }
  },
  {
   "cell_type": "code",
   "execution_count": 18,
   "outputs": [
    {
     "data": {
      "text/plain": "      User ID  Gender       Age  EstimatedSalary  Purchased\n0    15624510    Male -1.781797        -1.490046          0\n1    15810944    Male -0.253587        -1.460681          0\n2    15668575  Female -1.113206        -0.785290          0\n3    15603246  Female -1.017692        -0.374182          0\n4    15804002    Male -1.781797         0.183751          0\n..        ...     ...       ...              ...        ...\n395  15691863  Female  0.797057        -0.844019          1\n396  15706071    Male  1.274623        -1.372587          1\n397  15654296  Female  1.179110        -1.460681          1\n398  15755018    Male -0.158074        -1.078938          0\n399  15594041  Female  1.083596        -0.990844          1\n\n[400 rows x 5 columns]",
      "text/html": "<div>\n<style scoped>\n    .dataframe tbody tr th:only-of-type {\n        vertical-align: middle;\n    }\n\n    .dataframe tbody tr th {\n        vertical-align: top;\n    }\n\n    .dataframe thead th {\n        text-align: right;\n    }\n</style>\n<table border=\"1\" class=\"dataframe\">\n  <thead>\n    <tr style=\"text-align: right;\">\n      <th></th>\n      <th>User ID</th>\n      <th>Gender</th>\n      <th>Age</th>\n      <th>EstimatedSalary</th>\n      <th>Purchased</th>\n    </tr>\n  </thead>\n  <tbody>\n    <tr>\n      <th>0</th>\n      <td>15624510</td>\n      <td>Male</td>\n      <td>-1.781797</td>\n      <td>-1.490046</td>\n      <td>0</td>\n    </tr>\n    <tr>\n      <th>1</th>\n      <td>15810944</td>\n      <td>Male</td>\n      <td>-0.253587</td>\n      <td>-1.460681</td>\n      <td>0</td>\n    </tr>\n    <tr>\n      <th>2</th>\n      <td>15668575</td>\n      <td>Female</td>\n      <td>-1.113206</td>\n      <td>-0.785290</td>\n      <td>0</td>\n    </tr>\n    <tr>\n      <th>3</th>\n      <td>15603246</td>\n      <td>Female</td>\n      <td>-1.017692</td>\n      <td>-0.374182</td>\n      <td>0</td>\n    </tr>\n    <tr>\n      <th>4</th>\n      <td>15804002</td>\n      <td>Male</td>\n      <td>-1.781797</td>\n      <td>0.183751</td>\n      <td>0</td>\n    </tr>\n    <tr>\n      <th>...</th>\n      <td>...</td>\n      <td>...</td>\n      <td>...</td>\n      <td>...</td>\n      <td>...</td>\n    </tr>\n    <tr>\n      <th>395</th>\n      <td>15691863</td>\n      <td>Female</td>\n      <td>0.797057</td>\n      <td>-0.844019</td>\n      <td>1</td>\n    </tr>\n    <tr>\n      <th>396</th>\n      <td>15706071</td>\n      <td>Male</td>\n      <td>1.274623</td>\n      <td>-1.372587</td>\n      <td>1</td>\n    </tr>\n    <tr>\n      <th>397</th>\n      <td>15654296</td>\n      <td>Female</td>\n      <td>1.179110</td>\n      <td>-1.460681</td>\n      <td>1</td>\n    </tr>\n    <tr>\n      <th>398</th>\n      <td>15755018</td>\n      <td>Male</td>\n      <td>-0.158074</td>\n      <td>-1.078938</td>\n      <td>0</td>\n    </tr>\n    <tr>\n      <th>399</th>\n      <td>15594041</td>\n      <td>Female</td>\n      <td>1.083596</td>\n      <td>-0.990844</td>\n      <td>1</td>\n    </tr>\n  </tbody>\n</table>\n<p>400 rows × 5 columns</p>\n</div>"
     },
     "metadata": {},
     "output_type": "display_data"
    },
    {
     "data": {
      "text/plain": "      User ID  Gender  Age  EstimatedSalary  Purchased\n0    15624510    Male   19            19000          0\n1    15810944    Male   35            20000          0\n2    15668575  Female   26            43000          0\n3    15603246  Female   27            57000          0\n4    15804002    Male   19            76000          0\n..        ...     ...  ...              ...        ...\n395  15691863  Female   46            41000          1\n396  15706071    Male   51            23000          1\n397  15654296  Female   50            20000          1\n398  15755018    Male   36            33000          0\n399  15594041  Female   49            36000          1\n\n[400 rows x 5 columns]",
      "text/html": "<div>\n<style scoped>\n    .dataframe tbody tr th:only-of-type {\n        vertical-align: middle;\n    }\n\n    .dataframe tbody tr th {\n        vertical-align: top;\n    }\n\n    .dataframe thead th {\n        text-align: right;\n    }\n</style>\n<table border=\"1\" class=\"dataframe\">\n  <thead>\n    <tr style=\"text-align: right;\">\n      <th></th>\n      <th>User ID</th>\n      <th>Gender</th>\n      <th>Age</th>\n      <th>EstimatedSalary</th>\n      <th>Purchased</th>\n    </tr>\n  </thead>\n  <tbody>\n    <tr>\n      <th>0</th>\n      <td>15624510</td>\n      <td>Male</td>\n      <td>19</td>\n      <td>19000</td>\n      <td>0</td>\n    </tr>\n    <tr>\n      <th>1</th>\n      <td>15810944</td>\n      <td>Male</td>\n      <td>35</td>\n      <td>20000</td>\n      <td>0</td>\n    </tr>\n    <tr>\n      <th>2</th>\n      <td>15668575</td>\n      <td>Female</td>\n      <td>26</td>\n      <td>43000</td>\n      <td>0</td>\n    </tr>\n    <tr>\n      <th>3</th>\n      <td>15603246</td>\n      <td>Female</td>\n      <td>27</td>\n      <td>57000</td>\n      <td>0</td>\n    </tr>\n    <tr>\n      <th>4</th>\n      <td>15804002</td>\n      <td>Male</td>\n      <td>19</td>\n      <td>76000</td>\n      <td>0</td>\n    </tr>\n    <tr>\n      <th>...</th>\n      <td>...</td>\n      <td>...</td>\n      <td>...</td>\n      <td>...</td>\n      <td>...</td>\n    </tr>\n    <tr>\n      <th>395</th>\n      <td>15691863</td>\n      <td>Female</td>\n      <td>46</td>\n      <td>41000</td>\n      <td>1</td>\n    </tr>\n    <tr>\n      <th>396</th>\n      <td>15706071</td>\n      <td>Male</td>\n      <td>51</td>\n      <td>23000</td>\n      <td>1</td>\n    </tr>\n    <tr>\n      <th>397</th>\n      <td>15654296</td>\n      <td>Female</td>\n      <td>50</td>\n      <td>20000</td>\n      <td>1</td>\n    </tr>\n    <tr>\n      <th>398</th>\n      <td>15755018</td>\n      <td>Male</td>\n      <td>36</td>\n      <td>33000</td>\n      <td>0</td>\n    </tr>\n    <tr>\n      <th>399</th>\n      <td>15594041</td>\n      <td>Female</td>\n      <td>49</td>\n      <td>36000</td>\n      <td>1</td>\n    </tr>\n  </tbody>\n</table>\n<p>400 rows × 5 columns</p>\n</div>"
     },
     "metadata": {},
     "output_type": "display_data"
    }
   ],
   "source": [
    "normal2_social_net = deepcopy(social_net_ads)\n",
    "\n",
    "normal2_social_net[['Age']] = age\n",
    "normal2_social_net[['EstimatedSalary']] = estimated_salary\n",
    "\n",
    "display(normal2_social_net)\n",
    "display(social_net_ads)"
   ],
   "metadata": {
    "collapsed": false,
    "pycharm": {
     "name": "#%%\n"
    }
   }
  },
  {
   "cell_type": "code",
   "execution_count": 19,
   "outputs": [
    {
     "data": {
      "text/plain": "    User ID  Gender       Age  EstimatedSalary  Purchased\n0  15624510    Male -1.781797        -1.490046          0\n1  15810944    Male -0.253587        -1.460681          0\n2  15668575  Female -1.113206        -0.785290          0\n3  15603246  Female -1.017692        -0.374182          0\n4  15804002    Male -1.781797         0.183751          0\n5  15728773    Male -1.017692        -0.344817          0\n6  15598044  Female -1.017692         0.418669          0\n7  15694829  Female -0.540127         2.356750          1\n8  15600575    Male -1.208719        -1.078938          0\n9  15727311  Female -0.253587        -0.139263          0",
      "text/html": "<div>\n<style scoped>\n    .dataframe tbody tr th:only-of-type {\n        vertical-align: middle;\n    }\n\n    .dataframe tbody tr th {\n        vertical-align: top;\n    }\n\n    .dataframe thead th {\n        text-align: right;\n    }\n</style>\n<table border=\"1\" class=\"dataframe\">\n  <thead>\n    <tr style=\"text-align: right;\">\n      <th></th>\n      <th>User ID</th>\n      <th>Gender</th>\n      <th>Age</th>\n      <th>EstimatedSalary</th>\n      <th>Purchased</th>\n    </tr>\n  </thead>\n  <tbody>\n    <tr>\n      <th>0</th>\n      <td>15624510</td>\n      <td>Male</td>\n      <td>-1.781797</td>\n      <td>-1.490046</td>\n      <td>0</td>\n    </tr>\n    <tr>\n      <th>1</th>\n      <td>15810944</td>\n      <td>Male</td>\n      <td>-0.253587</td>\n      <td>-1.460681</td>\n      <td>0</td>\n    </tr>\n    <tr>\n      <th>2</th>\n      <td>15668575</td>\n      <td>Female</td>\n      <td>-1.113206</td>\n      <td>-0.785290</td>\n      <td>0</td>\n    </tr>\n    <tr>\n      <th>3</th>\n      <td>15603246</td>\n      <td>Female</td>\n      <td>-1.017692</td>\n      <td>-0.374182</td>\n      <td>0</td>\n    </tr>\n    <tr>\n      <th>4</th>\n      <td>15804002</td>\n      <td>Male</td>\n      <td>-1.781797</td>\n      <td>0.183751</td>\n      <td>0</td>\n    </tr>\n    <tr>\n      <th>5</th>\n      <td>15728773</td>\n      <td>Male</td>\n      <td>-1.017692</td>\n      <td>-0.344817</td>\n      <td>0</td>\n    </tr>\n    <tr>\n      <th>6</th>\n      <td>15598044</td>\n      <td>Female</td>\n      <td>-1.017692</td>\n      <td>0.418669</td>\n      <td>0</td>\n    </tr>\n    <tr>\n      <th>7</th>\n      <td>15694829</td>\n      <td>Female</td>\n      <td>-0.540127</td>\n      <td>2.356750</td>\n      <td>1</td>\n    </tr>\n    <tr>\n      <th>8</th>\n      <td>15600575</td>\n      <td>Male</td>\n      <td>-1.208719</td>\n      <td>-1.078938</td>\n      <td>0</td>\n    </tr>\n    <tr>\n      <th>9</th>\n      <td>15727311</td>\n      <td>Female</td>\n      <td>-0.253587</td>\n      <td>-0.139263</td>\n      <td>0</td>\n    </tr>\n  </tbody>\n</table>\n</div>"
     },
     "metadata": {},
     "output_type": "display_data"
    }
   ],
   "source": [
    "first_10_record = normal2_social_net.head(n=10)\n",
    "display(first_10_record)"
   ],
   "metadata": {
    "collapsed": false,
    "pycharm": {
     "name": "#%%\n"
    }
   }
  },
  {
   "cell_type": "code",
   "execution_count": 20,
   "outputs": [
    {
     "data": {
      "text/plain": "Text(0, 0.5, 'Estimated Salary')"
     },
     "execution_count": 20,
     "metadata": {},
     "output_type": "execute_result"
    },
    {
     "data": {
      "text/plain": "<Figure size 432x288 with 1 Axes>",
      "image/png": "[encoded data removed]"
     },
     "metadata": {
      "needs_background": "light"
     },
     "output_type": "display_data"
    }
   ],
   "source": [
    "x_di = normal2_social_net[['EstimatedSalary']].values\n",
    "y_di = normal2_social_net[['Age']].values\n",
    "\n",
    "ax = plt.axes()\n",
    "ax.scatter(x=y_di, y=x_di)\n",
    "plt.xlabel(\"age\")\n",
    "plt.ylabel(\"Estimated Salary\")"
   ],
   "metadata": {
    "collapsed": false,
    "pycharm": {
     "name": "#%%\n"
    }
   }
  },
  {
   "cell_type": "markdown",
   "source": [
    "## 3. Select columns “Age” & “EstimatedSalary” and scale them to 0:10 range:"
   ],
   "metadata": {
    "collapsed": false,
    "pycharm": {
     "name": "#%% md\n"
    }
   }
  },
  {
   "cell_type": "code",
   "execution_count": 27,
   "outputs": [],
   "source": [
    "age = normal2_social_net[['Age']].values\n",
    "estimated_salary = normal2_social_net[['EstimatedSalary']].values\n"
   ],
   "metadata": {
    "collapsed": false,
    "pycharm": {
     "name": "#%%\n"
    }
   }
  },
  {
   "cell_type": "code",
   "execution_count": 28,
   "outputs": [
    {
     "name": "stdout",
     "output_type": "stream",
     "text": [
      "[2.13424088]\n"
     ]
    }
   ],
   "source": [
    "mms = MinMaxScaler(feature_range=(0, 10))\n",
    "mms.fit(age)\n",
    "print(mms.data_max_)\n",
    "age = mms.transform(age)"
   ],
   "metadata": {
    "collapsed": false,
    "pycharm": {
     "name": "#%%\n"
    }
   }
  },
  {
   "cell_type": "code",
   "execution_count": 29,
   "outputs": [
    {
     "name": "stdout",
     "output_type": "stream",
     "text": [
      "[2.35674998]\n"
     ]
    }
   ],
   "source": [
    "mms = MinMaxScaler(feature_range=(0, 10))\n",
    "mms.fit(estimated_salary)\n",
    "print(mms.data_max_)\n",
    "estimated_salary = mms.transform(estimated_salary)"
   ],
   "metadata": {
    "collapsed": false,
    "pycharm": {
     "name": "#%%\n"
    }
   }
  },
  {
   "cell_type": "code",
   "execution_count": 30,
   "outputs": [
    {
     "data": {
      "text/plain": "      User ID  Gender       Age  EstimatedSalary  Purchased\n0    15624510    Male  0.238095         0.296296          0\n1    15810944    Male  4.047619         0.370370          0\n2    15668575  Female  1.904762         2.074074          0\n3    15603246  Female  2.142857         3.111111          0\n4    15804002    Male  0.238095         4.518519          0\n..        ...     ...       ...              ...        ...\n395  15691863  Female  6.666667         1.925926          1\n396  15706071    Male  7.857143         0.592593          1\n397  15654296  Female  7.619048         0.370370          1\n398  15755018    Male  4.285714         1.333333          0\n399  15594041  Female  7.380952         1.555556          1\n\n[400 rows x 5 columns]",
      "text/html": "<div>\n<style scoped>\n    .dataframe tbody tr th:only-of-type {\n        vertical-align: middle;\n    }\n\n    .dataframe tbody tr th {\n        vertical-align: top;\n    }\n\n    .dataframe thead th {\n        text-align: right;\n    }\n</style>\n<table border=\"1\" class=\"dataframe\">\n  <thead>\n    <tr style=\"text-align: right;\">\n      <th></th>\n      <th>User ID</th>\n      <th>Gender</th>\n      <th>Age</th>\n      <th>EstimatedSalary</th>\n      <th>Purchased</th>\n    </tr>\n  </thead>\n  <tbody>\n    <tr>\n      <th>0</th>\n      <td>15624510</td>\n      <td>Male</td>\n      <td>0.238095</td>\n      <td>0.296296</td>\n      <td>0</td>\n    </tr>\n    <tr>\n      <th>1</th>\n      <td>15810944</td>\n      <td>Male</td>\n      <td>4.047619</td>\n      <td>0.370370</td>\n      <td>0</td>\n    </tr>\n    <tr>\n      <th>2</th>\n      <td>15668575</td>\n      <td>Female</td>\n      <td>1.904762</td>\n      <td>2.074074</td>\n      <td>0</td>\n    </tr>\n    <tr>\n      <th>3</th>\n      <td>15603246</td>\n      <td>Female</td>\n      <td>2.142857</td>\n      <td>3.111111</td>\n      <td>0</td>\n    </tr>\n    <tr>\n      <th>4</th>\n      <td>15804002</td>\n      <td>Male</td>\n      <td>0.238095</td>\n      <td>4.518519</td>\n      <td>0</td>\n    </tr>\n    <tr>\n      <th>...</th>\n      <td>...</td>\n      <td>...</td>\n      <td>...</td>\n      <td>...</td>\n      <td>...</td>\n    </tr>\n    <tr>\n      <th>395</th>\n      <td>15691863</td>\n      <td>Female</td>\n      <td>6.666667</td>\n      <td>1.925926</td>\n      <td>1</td>\n    </tr>\n    <tr>\n      <th>396</th>\n      <td>15706071</td>\n      <td>Male</td>\n      <td>7.857143</td>\n      <td>0.592593</td>\n      <td>1</td>\n    </tr>\n    <tr>\n      <th>397</th>\n      <td>15654296</td>\n      <td>Female</td>\n      <td>7.619048</td>\n      <td>0.370370</td>\n      <td>1</td>\n    </tr>\n    <tr>\n      <th>398</th>\n      <td>15755018</td>\n      <td>Male</td>\n      <td>4.285714</td>\n      <td>1.333333</td>\n      <td>0</td>\n    </tr>\n    <tr>\n      <th>399</th>\n      <td>15594041</td>\n      <td>Female</td>\n      <td>7.380952</td>\n      <td>1.555556</td>\n      <td>1</td>\n    </tr>\n  </tbody>\n</table>\n<p>400 rows × 5 columns</p>\n</div>"
     },
     "metadata": {},
     "output_type": "display_data"
    },
    {
     "data": {
      "text/plain": "      User ID  Gender  Age  EstimatedSalary  Purchased\n0    15624510    Male   19            19000          0\n1    15810944    Male   35            20000          0\n2    15668575  Female   26            43000          0\n3    15603246  Female   27            57000          0\n4    15804002    Male   19            76000          0\n..        ...     ...  ...              ...        ...\n395  15691863  Female   46            41000          1\n396  15706071    Male   51            23000          1\n397  15654296  Female   50            20000          1\n398  15755018    Male   36            33000          0\n399  15594041  Female   49            36000          1\n\n[400 rows x 5 columns]",
      "text/html": "<div>\n<style scoped>\n    .dataframe tbody tr th:only-of-type {\n        vertical-align: middle;\n    }\n\n    .dataframe tbody tr th {\n        vertical-align: top;\n    }\n\n    .dataframe thead th {\n        text-align: right;\n    }\n</style>\n<table border=\"1\" class=\"dataframe\">\n  <thead>\n    <tr style=\"text-align: right;\">\n      <th></th>\n      <th>User ID</th>\n      <th>Gender</th>\n      <th>Age</th>\n      <th>EstimatedSalary</th>\n      <th>Purchased</th>\n    </tr>\n  </thead>\n  <tbody>\n    <tr>\n      <th>0</th>\n      <td>15624510</td>\n      <td>Male</td>\n      <td>19</td>\n      <td>19000</td>\n      <td>0</td>\n    </tr>\n    <tr>\n      <th>1</th>\n      <td>15810944</td>\n      <td>Male</td>\n      <td>35</td>\n      <td>20000</td>\n      <td>0</td>\n    </tr>\n    <tr>\n      <th>2</th>\n      <td>15668575</td>\n      <td>Female</td>\n      <td>26</td>\n      <td>43000</td>\n      <td>0</td>\n    </tr>\n    <tr>\n      <th>3</th>\n      <td>15603246</td>\n      <td>Female</td>\n      <td>27</td>\n      <td>57000</td>\n      <td>0</td>\n    </tr>\n    <tr>\n      <th>4</th>\n      <td>15804002</td>\n      <td>Male</td>\n      <td>19</td>\n      <td>76000</td>\n      <td>0</td>\n    </tr>\n    <tr>\n      <th>...</th>\n      <td>...</td>\n      <td>...</td>\n      <td>...</td>\n      <td>...</td>\n      <td>...</td>\n    </tr>\n    <tr>\n      <th>395</th>\n      <td>15691863</td>\n      <td>Female</td>\n      <td>46</td>\n      <td>41000</td>\n      <td>1</td>\n    </tr>\n    <tr>\n      <th>396</th>\n      <td>15706071</td>\n      <td>Male</td>\n      <td>51</td>\n      <td>23000</td>\n      <td>1</td>\n    </tr>\n    <tr>\n      <th>397</th>\n      <td>15654296</td>\n      <td>Female</td>\n      <td>50</td>\n      <td>20000</td>\n      <td>1</td>\n    </tr>\n    <tr>\n      <th>398</th>\n      <td>15755018</td>\n      <td>Male</td>\n      <td>36</td>\n      <td>33000</td>\n      <td>0</td>\n    </tr>\n    <tr>\n      <th>399</th>\n      <td>15594041</td>\n      <td>Female</td>\n      <td>49</td>\n      <td>36000</td>\n      <td>1</td>\n    </tr>\n  </tbody>\n</table>\n<p>400 rows × 5 columns</p>\n</div>"
     },
     "metadata": {},
     "output_type": "display_data"
    }
   ],
   "source": [
    "min_max_social_net = deepcopy(social_net_ads)\n",
    "\n",
    "min_max_social_net[['Age']] = age\n",
    "min_max_social_net[['EstimatedSalary']] = estimated_salary\n",
    "\n",
    "display(min_max_social_net)\n",
    "display(social_net_ads)"
   ],
   "metadata": {
    "collapsed": false,
    "pycharm": {
     "name": "#%%\n"
    }
   }
  },
  {
   "cell_type": "code",
   "execution_count": 31,
   "outputs": [
    {
     "data": {
      "text/plain": "    User ID  Gender       Age  EstimatedSalary  Purchased\n0  15624510    Male  0.238095         0.296296          0\n1  15810944    Male  4.047619         0.370370          0\n2  15668575  Female  1.904762         2.074074          0\n3  15603246  Female  2.142857         3.111111          0\n4  15804002    Male  0.238095         4.518519          0\n5  15728773    Male  2.142857         3.185185          0\n6  15598044  Female  2.142857         5.111111          0\n7  15694829  Female  3.333333        10.000000          1\n8  15600575    Male  1.666667         1.333333          0\n9  15727311  Female  4.047619         3.703704          0",
      "text/html": "<div>\n<style scoped>\n    .dataframe tbody tr th:only-of-type {\n        vertical-align: middle;\n    }\n\n    .dataframe tbody tr th {\n        vertical-align: top;\n    }\n\n    .dataframe thead th {\n        text-align: right;\n    }\n</style>\n<table border=\"1\" class=\"dataframe\">\n  <thead>\n    <tr style=\"text-align: right;\">\n      <th></th>\n      <th>User ID</th>\n      <th>Gender</th>\n      <th>Age</th>\n      <th>EstimatedSalary</th>\n      <th>Purchased</th>\n    </tr>\n  </thead>\n  <tbody>\n    <tr>\n      <th>0</th>\n      <td>15624510</td>\n      <td>Male</td>\n      <td>0.238095</td>\n      <td>0.296296</td>\n      <td>0</td>\n    </tr>\n    <tr>\n      <th>1</th>\n      <td>15810944</td>\n      <td>Male</td>\n      <td>4.047619</td>\n      <td>0.370370</td>\n      <td>0</td>\n    </tr>\n    <tr>\n      <th>2</th>\n      <td>15668575</td>\n      <td>Female</td>\n      <td>1.904762</td>\n      <td>2.074074</td>\n      <td>0</td>\n    </tr>\n    <tr>\n      <th>3</th>\n      <td>15603246</td>\n      <td>Female</td>\n      <td>2.142857</td>\n      <td>3.111111</td>\n      <td>0</td>\n    </tr>\n    <tr>\n      <th>4</th>\n      <td>15804002</td>\n      <td>Male</td>\n      <td>0.238095</td>\n      <td>4.518519</td>\n      <td>0</td>\n    </tr>\n    <tr>\n      <th>5</th>\n      <td>15728773</td>\n      <td>Male</td>\n      <td>2.142857</td>\n      <td>3.185185</td>\n      <td>0</td>\n    </tr>\n    <tr>\n      <th>6</th>\n      <td>15598044</td>\n      <td>Female</td>\n      <td>2.142857</td>\n      <td>5.111111</td>\n      <td>0</td>\n    </tr>\n    <tr>\n      <th>7</th>\n      <td>15694829</td>\n      <td>Female</td>\n      <td>3.333333</td>\n      <td>10.000000</td>\n      <td>1</td>\n    </tr>\n    <tr>\n      <th>8</th>\n      <td>15600575</td>\n      <td>Male</td>\n      <td>1.666667</td>\n      <td>1.333333</td>\n      <td>0</td>\n    </tr>\n    <tr>\n      <th>9</th>\n      <td>15727311</td>\n      <td>Female</td>\n      <td>4.047619</td>\n      <td>3.703704</td>\n      <td>0</td>\n    </tr>\n  </tbody>\n</table>\n</div>"
     },
     "metadata": {},
     "output_type": "display_data"
    }
   ],
   "source": [
    "first_10_record = min_max_social_net.head(n=10)\n",
    "display(first_10_record)"
   ],
   "metadata": {
    "collapsed": false,
    "pycharm": {
     "name": "#%%\n"
    }
   }
  },
  {
   "cell_type": "code",
   "execution_count": 32,
   "outputs": [
    {
     "data": {
      "text/plain": "Text(0, 0.5, 'Estimated Salary')"
     },
     "execution_count": 32,
     "metadata": {},
     "output_type": "execute_result"
    },
    {
     "data": {
      "text/plain": "<Figure size 432x288 with 1 Axes>",
      "image/png": "[encoded data removed]"
     },
     "metadata": {
      "needs_background": "light"
     },
     "output_type": "display_data"
    }
   ],
   "source": [
    "x_di = min_max_social_net[['EstimatedSalary']].values\n",
    "y_di = min_max_social_net[['Age']].values\n",
    "\n",
    "ax = plt.axes()\n",
    "ax.scatter(x=y_di, y=x_di)\n",
    "plt.xlabel(\"age\")\n",
    "plt.ylabel(\"Estimated Salary\")"
   ],
   "metadata": {
    "collapsed": false,
    "pycharm": {
     "name": "#%%\n"
    }
   }
  },
  {
   "cell_type": "code",
   "execution_count": null,
   "outputs": [],
   "source": [],
   "metadata": {
    "collapsed": false,
    "pycharm": {
     "name": "#%%\n"
    }
   }
  },
  {
   "cell_type": "markdown",
   "source": [],
   "metadata": {
    "collapsed": false,
    "pycharm": {
     "name": "#%% md\n"
    }
   }
  }
 ],
 "metadata": {
  "kernelspec": {
   "display_name": "Python 3",
   "language": "python",
   "name": "python3"
  },
  "language_info": {
   "codemirror_mode": {
    "name": "ipython",
    "version": 2
   },
   "file_extension": ".py",
   "mimetype": "text/x-python",
   "name": "python",
   "nbconvert_exporter": "python",
   "pygments_lexer": "ipython2",
   "version": "2.7.6"
  }
 },
 "nbformat": 4,
 "nbformat_minor": 0
}