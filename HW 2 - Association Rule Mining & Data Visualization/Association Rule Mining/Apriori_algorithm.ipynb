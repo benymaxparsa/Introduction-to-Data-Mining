{
 "cells": [
  {
   "cell_type": "markdown",
   "metadata": {
    "collapsed": true,
    "pycharm": {
     "name": "#%% md\n"
    }
   },
   "source": [
    "# 3rd HW of Data Mining course - Association Rule Mining\n",
    "## Parsa KamaliPour - 97149081"
   ]
  },
  {
   "cell_type": "code",
   "execution_count": 11,
   "outputs": [],
   "source": [
    "from collections import defaultdict\n",
    "from itertools import combinations, chain\n",
    "\n",
    "from IPython.core.display_functions import display"
   ],
   "metadata": {
    "collapsed": false,
    "pycharm": {
     "name": "#%%\n"
    }
   }
  },
  {
   "cell_type": "code",
   "execution_count": 1,
   "outputs": [],
   "source": [
    "def retrieve_item_set(item_set_list):\n",
    "    new_item_set = set()\n",
    "    for item_set in item_set_list:\n",
    "        for item in item_set:\n",
    "            new_item_set.add(frozenset([item]))\n",
    "    return new_item_set"
   ],
   "metadata": {
    "collapsed": false,
    "pycharm": {
     "name": "#%%\n"
    }
   }
  },
  {
   "cell_type": "code",
   "execution_count": 3,
   "outputs": [],
   "source": [
    "def filter_freq_item_set(item_set, item_set_list, min_sup, global_item_set_with_sup):\n",
    "    freq_item_set = set()\n",
    "    local_item_set_with_sup = defaultdict(int)\n",
    "    for item in item_set:\n",
    "        for item_set in item_set_list:\n",
    "            if item.issubset(item_set):\n",
    "                global_item_set_with_sup[item] += 1\n",
    "                local_item_set_with_sup[item] += 1\n",
    "    for item, sup_count in local_item_set_with_sup.items():\n",
    "        support = float(sup_count/ len(item_set_list))\n",
    "        if(support >= min_sup):\n",
    "            freq_item_set.add(item)\n",
    "    return freq_item_set"
   ],
   "metadata": {
    "collapsed": false,
    "pycharm": {
     "name": "#%%\n"
    }
   }
  },
  {
   "cell_type": "code",
   "execution_count": 4,
   "outputs": [],
   "source": [
    "def get_union(item_set, length):\n",
    "    return set(\n",
    "        [a.union(b) for a in item_set for b in item_set if len(a.union(b)) == length]\n",
    "    )"
   ],
   "metadata": {
    "collapsed": false,
    "pycharm": {
     "name": "#%%\n"
    }
   }
  },
  {
   "cell_type": "code",
   "execution_count": 6,
   "outputs": [],
   "source": [
    "def pruning(candidate_set, previous_freq_set, length):\n",
    "    temp_candidate_set = candidate_set.copy()\n",
    "    for item in candidate_set:\n",
    "        subsets = combinations(item, length)\n",
    "        for subset in subsets:\n",
    "            if frozenset(subset) not in previous_freq_set:\n",
    "                temp_candidate_set.remove(item)\n",
    "                break\n",
    "    return temp_candidate_set"
   ],
   "metadata": {
    "collapsed": false,
    "pycharm": {
     "name": "#%%\n"
    }
   }
  },
  {
   "cell_type": "code",
   "execution_count": 8,
   "outputs": [],
   "source": [
    "def get_powerset(s):\n",
    "    return chain.from_iterable(combinations(s, r) for r in range(1, len(s)))"
   ],
   "metadata": {
    "collapsed": false,
    "pycharm": {
     "name": "#%%\n"
    }
   }
  },
  {
   "cell_type": "code",
   "execution_count": 9,
   "outputs": [],
   "source": [
    "def association_rule(freq_item_set, item_set_with_sup, min_conf):\n",
    "    rules = []\n",
    "    for k, item_set in freq_item_set.items():\n",
    "        for item in item_set:\n",
    "            subsets = get_powerset(item)\n",
    "            for s in subsets:\n",
    "                confidence = float(item_set_with_sup[item]/item_set_with_sup[frozenset(s)])\n",
    "                if confidence > min_conf:\n",
    "                    rules.append(\n",
    "                        [set(s), set(item.difference(s)), confidence]\n",
    "                    )\n",
    "    return rules"
   ],
   "metadata": {
    "collapsed": false,
    "pycharm": {
     "name": "#%%\n"
    }
   }
  },
  {
   "cell_type": "code",
   "execution_count": 17,
   "outputs": [],
   "source": [
    "def apriori(item_set_list, min_sup, min_conf):\n",
    "    candidate_item_set = retrieve_item_set(item_set_list)\n",
    "    global_freq_item_set = dict()\n",
    "    global_item_set_with_sup = defaultdict(int)\n",
    "    filtered_item_set = filter_freq_item_set(candidate_item_set, item_set_list, min_sup, global_item_set_with_sup)\n",
    "    current_l_set = filtered_item_set\n",
    "    k = 2\n",
    "\n",
    "    while current_l_set:\n",
    "        global_freq_item_set[k-1] = current_l_set\n",
    "        candidate_item_set = get_union(current_l_set, k)\n",
    "        candidate_item_set = pruning(candidate_item_set, current_l_set, k-1)\n",
    "        current_l_set = filter_freq_item_set(candidate_item_set, item_set_list, min_sup, global_item_set_with_sup)\n",
    "        k += 1\n",
    "\n",
    "    rules = association_rule(global_freq_item_set, global_item_set_with_sup, min_conf)\n",
    "    rules.sort(key=lambda x: x[2])\n",
    "\n",
    "    return global_freq_item_set, rules"
   ],
   "metadata": {
    "collapsed": false,
    "pycharm": {
     "name": "#%%\n"
    }
   }
  },
  {
   "cell_type": "code",
   "execution_count": 18,
   "outputs": [
    {
     "data": {
      "text/plain": "{1: {frozenset({'Kidney Beans'}),\n  frozenset({'Milk'}),\n  frozenset({'Onion'}),\n  frozenset({'Eggs'}),\n  frozenset({'Yogurt'})},\n 2: {frozenset({'Eggs', 'Kidney Beans'}),\n  frozenset({'Kidney Beans', 'Milk'}),\n  frozenset({'Eggs', 'Onion'}),\n  frozenset({'Kidney Beans', 'Onion'}),\n  frozenset({'Kidney Beans', 'Yogurt'})},\n 3: {frozenset({'Eggs', 'Kidney Beans', 'Onion'})}}"
     },
     "metadata": {},
     "output_type": "display_data"
    },
    {
     "data": {
      "text/plain": "[[{'Eggs'}, {'Onion'}, 0.75],\n [{'Eggs'}, {'Kidney Beans', 'Onion'}, 0.75],\n [{'Eggs', 'Kidney Beans'}, {'Onion'}, 0.75],\n [{'Kidney Beans'}, {'Eggs'}, 0.8],\n [{'Eggs'}, {'Kidney Beans'}, 1.0],\n [{'Milk'}, {'Kidney Beans'}, 1.0],\n [{'Onion'}, {'Eggs'}, 1.0],\n [{'Onion'}, {'Kidney Beans'}, 1.0],\n [{'Yogurt'}, {'Kidney Beans'}, 1.0],\n [{'Onion'}, {'Eggs', 'Kidney Beans'}, 1.0],\n [{'Eggs', 'Onion'}, {'Kidney Beans'}, 1.0],\n [{'Kidney Beans', 'Onion'}, {'Eggs'}, 1.0]]"
     },
     "metadata": {},
     "output_type": "display_data"
    }
   ],
   "source": [
    "dataset = [\n",
    "    ['Milk', 'Onion', 'Nutmeg', 'Kidney Beans', 'Eggs', 'Yogurt'],\n",
    "    ['Dill', 'Onion', 'Nutmeg', 'Kidney Beans', 'Eggs', 'Yogurt'],\n",
    "    ['Milk', 'Apple', 'Kidney Beans', 'Eggs'],\n",
    "    ['Milk', 'Unicorn', 'Corn', 'Kidney Beans', 'Yogurt'],\n",
    "    ['Corn', 'Onion', 'Onion', 'Kidney Beans', 'Ice cream', 'Eggs']\n",
    "]\n",
    "freq_item_set, rules = apriori(dataset, min_sup=0.6, min_conf=0.7)\n",
    "\n",
    "display(freq_item_set)\n",
    "display(rules)"
   ],
   "metadata": {
    "collapsed": false,
    "pycharm": {
     "name": "#%%\n"
    }
   }
  }
 ],
 "metadata": {
  "kernelspec": {
   "display_name": "Python 3",
   "language": "python",
   "name": "python3"
  },
  "language_info": {
   "codemirror_mode": {
    "name": "ipython",
    "version": 2
   },
   "file_extension": ".py",
   "mimetype": "text/x-python",
   "name": "python",
   "nbconvert_exporter": "python",
   "pygments_lexer": "ipython2",
   "version": "2.7.6"
  }
 },
 "nbformat": 4,
 "nbformat_minor": 0
}